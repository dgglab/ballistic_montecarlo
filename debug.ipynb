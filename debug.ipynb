{
 "cells": [
  {
   "cell_type": "markdown",
   "metadata": {},
   "source": [
    "# TODO"
   ]
  },
  {
   "cell_type": "markdown",
   "metadata": {},
   "source": [
    "# Init"
   ]
  },
  {
   "cell_type": "code",
   "execution_count": 1,
   "metadata": {
    "ExecuteTime": {
     "end_time": "2020-07-04T01:28:49.993278Z",
     "start_time": "2020-07-04T01:28:49.611119Z"
    }
   },
   "outputs": [],
   "source": [
    "%%capture\n",
    "\n",
    "%load_ext line_profiler\n",
    "\n",
    "import importlib\n",
    "from cycler import cycler\n",
    "import numpy as np\n",
    "import time\n",
    "import multiprocessing\n",
    "\n",
    "import matplotlib\n",
    "import matplotlib.pyplot as plt\n",
    "#%matplotlib notebook\n",
    "%matplotlib inline\n",
    "\n",
    "import sys\n",
    "sys.path.insert(0, 'geo')\n",
    "sys.path.insert(0, 'bandstructure')\n",
    "\n",
    "import caustic_frame\n",
    "importlib.reload(caustic_frame)\n",
    "\n",
    "import caustic_bandstructure\n",
    "importlib.reload(caustic_bandstructure)\n",
    "\n",
    "from delafossite_bandstructure import delafossite\n",
    "\n",
    "import monte_carlo_simulation as mcs\n",
    "importlib.reload(mcs)\n",
    "from shapely.geometry import LineString\n",
    "from shapely.geometry import Point\n",
    "\n",
    "import cProfile\n",
    "\n",
    "# Set default plotting parameters\n",
    "\n",
    "plt.rcParams['axes.prop_cycle'] = cycler(\n",
    "    color=['#E24A33','#348ABD','#988ED5','#777777',\n",
    "           '#FBC15E','#8EBA42','#FFB5B8'])\n",
    "\n",
    "plt.rcParams['axes.linewidth'] = 1\n",
    "plt.rcParams['xtick.direction'] = 'in'\n",
    "plt.rcParams['xtick.top'] = 'True'\n",
    "plt.rcParams['xtick.major.size'] = 5\n",
    "plt.rcParams['xtick.major.width'] = 1\n",
    "plt.rcParams['xtick.minor.size'] = 2.5\n",
    "plt.rcParams['xtick.minor.width'] = 1\n",
    "\n",
    "plt.rcParams['ytick.direction'] = 'in'\n",
    "plt.rcParams['ytick.right'] = 'True'\n",
    "plt.rcParams['ytick.major.size'] = 5\n",
    "plt.rcParams['ytick.major.width'] = 1\n",
    "plt.rcParams['ytick.minor.size'] = 2.5\n",
    "plt.rcParams['ytick.minor.width'] = 1\n",
    "\n",
    "\n",
    "plt.rcParams['lines.linewidth'] = 1.5\n",
    "plt.rcParams['font.size'] = 12\n",
    "plt.rcParams['axes.labelsize']=12\n",
    "\n",
    "np.seterr(divide='ignore')"
   ]
  },
  {
   "cell_type": "markdown",
   "metadata": {},
   "source": [
    "# Simulation"
   ]
  },
  {
   "cell_type": "markdown",
   "metadata": {},
   "source": [
    "## Bar"
   ]
  },
  {
   "cell_type": "markdown",
   "metadata": {},
   "source": [
    "python multiprocessing\n",
    "monte carlo git library"
   ]
  },
  {
   "cell_type": "markdown",
   "metadata": {},
   "source": [
    "### Serial test"
   ]
  },
  {
   "cell_type": "code",
   "execution_count": 2,
   "metadata": {
    "ExecuteTime": {
     "end_time": "2020-07-04T01:28:49.996977Z",
     "start_time": "2020-07-04T01:28:49.994895Z"
    }
   },
   "outputs": [],
   "source": [
    "ts = mcs.TrajectoryState"
   ]
  },
  {
   "cell_type": "code",
   "execution_count": 3,
   "metadata": {
    "ExecuteTime": {
     "end_time": "2020-07-04T01:29:16.362878Z",
     "start_time": "2020-07-04T01:29:13.413231Z"
    }
   },
   "outputs": [
    {
     "name": "stdout",
     "output_type": "stream",
     "text": [
      "path data/debug0.pkl does not exist, running simulation\n",
      "10.0 T: [4, 8, 2, 26, 2, 2, 4, 10, 2, 8]\n",
      "path data/debug0.pkl already exists, loading data\n",
      "10.7 T: [4, 8, 2, 26, 2, 2, 4, 10, 2, 8]\n",
      "path data/debug0.pkl already exists, loading data\n",
      "11.4 T: [4, 8, 2, 26, 2, 2, 4, 10, 2, 8]\n",
      "path data/debug0.pkl already exists, loading data\n",
      "12.1 T: [4, 8, 2, 26, 2, 2, 4, 10, 2, 8]\n",
      "path data/debug0.pkl already exists, loading data\n",
      "12.9 T: [4, 8, 2, 26, 2, 2, 4, 10, 2, 8]\n",
      "path data/debug0.pkl already exists, loading data\n",
      "13.6 T: [4, 8, 2, 26, 2, 2, 4, 10, 2, 8]\n",
      "path data/debug0.pkl already exists, loading data\n",
      "14.3 T: [4, 8, 2, 26, 2, 2, 4, 10, 2, 8]\n",
      "path data/debug0.pkl already exists, loading data\n",
      "15.0 T: [4, 8, 2, 26, 2, 2, 4, 10, 2, 8]\n",
      "Completed in 2.9 s\n"
     ]
    }
   ],
   "source": [
    "k = delafossite()\n",
    "bar_frame = caustic_frame.Frame('geo/bar.dxf')\n",
    "fields = np.linspace(10, 15, 8)\n",
    "\n",
    "start = time.time()\n",
    "for field in fields:\n",
    "    np.random.seed(42)\n",
    "    bar_sim = mcs.Simulation(bar_frame, k, 0, field)\n",
    "    edge_to_collisions, trajectories = bar_sim.run_simulation_with_cache('debug0', 10, stored_states=set([ts.INJECTING, ts.ABSORBED]))\n",
    "    print(f'{field:.1f} T: {list(map(len, trajectories))}')\n",
    "print(f'Completed in {time.time() - start:.1f} s')"
   ]
  },
  {
   "cell_type": "code",
   "execution_count": 6,
   "metadata": {
    "ExecuteTime": {
     "end_time": "2020-07-04T01:29:31.869987Z",
     "start_time": "2020-07-04T01:29:31.813479Z"
    }
   },
   "outputs": [
    {
     "name": "stdout",
     "output_type": "stream",
     "text": [
      "path data/debug0.pkl already exists, loading data\n",
      "10.0 T: [4, 8, 2, 26, 2, 2, 4, 10, 2, 8]\n",
      "path data/debug0.pkl already exists, loading data\n",
      "10.7 T: [4, 8, 2, 26, 2, 2, 4, 10, 2, 8]\n",
      "path data/debug0.pkl already exists, loading data\n",
      "11.4 T: [4, 8, 2, 26, 2, 2, 4, 10, 2, 8]\n",
      "path data/debug0.pkl already exists, loading data\n",
      "12.1 T: [4, 8, 2, 26, 2, 2, 4, 10, 2, 8]\n",
      "path data/debug0.pkl already exists, loading data\n",
      "12.9 T: [4, 8, 2, 26, 2, 2, 4, 10, 2, 8]\n",
      "path data/debug0.pkl already exists, loading data\n",
      "13.6 T: [4, 8, 2, 26, 2, 2, 4, 10, 2, 8]\n",
      "path data/debug0.pkl already exists, loading data\n",
      "14.3 T: [4, 8, 2, 26, 2, 2, 4, 10, 2, 8]\n",
      "path data/debug0.pkl already exists, loading data\n",
      "15.0 T: [4, 8, 2, 26, 2, 2, 4, 10, 2, 8]\n",
      "Completed in 0.0 s\n"
     ]
    }
   ],
   "source": [
    "k = delafossite()\n",
    "bar_frame = caustic_frame.Frame('geo/bar.dxf')\n",
    "fields = np.linspace(10, 15, 8)\n",
    "\n",
    "start = time.time()\n",
    "for field in fields:\n",
    "    np.random.seed(42)\n",
    "    bar_sim = mcs.Simulation(bar_frame, k, 0, field)\n",
    "    edge_to_collisions, trajectories = bar_sim.run_simulation_with_cache('debug0', 10, stored_states=set([ts.INJECTING, ts.ABSORBED]))\n",
    "    print(f'{field:.1f} T: {list(map(len, trajectories))}')\n",
    "print(f'Completed in {time.time() - start:.1f} s')"
   ]
  },
  {
   "cell_type": "code",
   "execution_count": null,
   "metadata": {
    "ExecuteTime": {
     "start_time": "2020-07-04T01:28:37.738Z"
    }
   },
   "outputs": [
    {
     "name": "stdout",
     "output_type": "stream",
     "text": [
      "10.0 T: [4, 8, 2, 26, 2, 2, 4, 10, 2, 8]\n"
     ]
    }
   ],
   "source": [
    "k = delafossite()\n",
    "bar_frame = caustic_frame.Frame('geo/bar.dxf')\n",
    "fields = np.linspace(10, 15, 8)\n",
    "\n",
    "start = time.time()\n",
    "for field in fields:\n",
    "    np.random.seed(42)\n",
    "    bar_sim = mcs.Simulation(bar_frame, k, 0, field)\n",
    "    edge_to_collisions, trajectories = bar_sim.run_simulation(10, stored_states=set([ts.INJECTING, ts.ABSORBED]))\n",
    "    print(f'{field:.1f} T: {list(map(len, trajectories))}')\n",
    "print(f'Completed in {time.time() - start:.1f} s')"
   ]
  },
  {
   "cell_type": "code",
   "execution_count": null,
   "metadata": {
    "ExecuteTime": {
     "start_time": "2020-07-04T01:28:37.740Z"
    }
   },
   "outputs": [],
   "source": [
    "trajectories"
   ]
  },
  {
   "cell_type": "markdown",
   "metadata": {},
   "source": [
    "### Parallel test"
   ]
  },
  {
   "cell_type": "code",
   "execution_count": null,
   "metadata": {
    "ExecuteTime": {
     "start_time": "2020-07-04T01:28:37.743Z"
    }
   },
   "outputs": [],
   "source": [
    "start = time.time()\n",
    "results = []\n",
    "np.random.seed(42)\n",
    "with multiprocessing.Pool(maxtasksperchild=1) as p:\n",
    "    for field in fields:\n",
    "        bar_sim = mcs.Simulation(bar_frame, k, 0, field)\n",
    "        results.append(p.apply_async(bar_sim.run_simulation, [10, set()]))\n",
    "    p.close()\n",
    "    p.join()\n",
    "for r, field in zip(results, fields):\n",
    "    print(f'{field:.1f} T: {list(map(len, r.get()[1]))}')\n",
    "print(f'Completed in {time.time() - start:.1f} s')"
   ]
  },
  {
   "cell_type": "code",
   "execution_count": null,
   "metadata": {},
   "outputs": [],
   "source": []
  },
  {
   "cell_type": "code",
   "execution_count": null,
   "metadata": {
    "ExecuteTime": {
     "start_time": "2020-07-04T01:28:37.746Z"
    }
   },
   "outputs": [],
   "source": [
    "ohmstat = mcs.calc_ohmstats(fields, results)\n",
    "ohmstat"
   ]
  },
  {
   "cell_type": "code",
   "execution_count": null,
   "metadata": {
    "ExecuteTime": {
     "start_time": "2020-07-04T01:28:37.747Z"
    },
    "scrolled": true
   },
   "outputs": [],
   "source": [
    "for result in results:\n",
    "    edge_to_count, trajectories = result.get()\n",
    "    for trajectory in trajectories:\n",
    "        fig = bar_frame.gen_fig()\n",
    "        ns, xs, ys, state, edge = zip(*trajectory)\n",
    "        plt.plot(xs,ys, 'C3.-')\n",
    "        #plt.axes().set_aspect('equal')\n",
    "        #plt.ylim(-5.1,-4)"
   ]
  },
  {
   "cell_type": "code",
   "execution_count": null,
   "metadata": {
    "ExecuteTime": {
     "start_time": "2020-07-04T01:28:37.749Z"
    }
   },
   "outputs": [],
   "source": [
    "num_edges = len(bar_frame.edges)\n",
    "x = 0\n",
    "y = 0\n",
    "x_new = 0.5\n",
    "y_new = 3\n",
    "\n",
    "x01 = x - x_new\n",
    "y01 = y - y_new\n",
    "x02 = x - bar_frame.px0\n",
    "y02 = y - bar_frame.py0\n",
    "x_del = x_new - x\n",
    "y_del = y_new - y\n",
    "\n",
    "ts = (x02*bar_frame.y23 - y02*bar_frame.x23) / (x01*bar_frame.y23 - y01*bar_frame.x23)\n",
    "us = -(x01*y02 - y01*x02) / (x01*bar_frame.y23 - y01*bar_frame.x23)\n",
    "\n",
    "intersections = []\n",
    "for i, (t, u) in enumerate(zip(ts, us)):\n",
    "    if 0 <= t and t <= 1 and 0 <= u and u <= 1:\n",
    "        print(u, t)\n",
    "        edge = bar_frame.edges[i]\n",
    "        if x_del * edge.normal[0] + y_del * edge.normal[1] < 0:\n",
    "            x_int = edge.xs[0] + u*(edge.xs[1] - edge.xs[0])\n",
    "            y_int = edge.ys[0] + u*(edge.ys[1] - edge.ys[0])\n",
    "            \n",
    "            x_t = x + t*(x_new - x)\n",
    "            y_t = y + t*(y_new- y)\n",
    "            if x_int != x or y_int != y:\n",
    "                bias_vector = 1E-10 * \\\n",
    "                    np.array([(x_new-x), (y_new-y)]) / \\\n",
    "                    np.sqrt((x_new-x)**2 + (y_new-y)**2)\n",
    "                intersections.append(\n",
    "                    (edge, x_int - bias_vector[0], y_int - bias_vector[1]))\n",
    "    \n",
    "print(x_int, y_int)\n",
    "print(x_t, y_t)"
   ]
  },
  {
   "cell_type": "code",
   "execution_count": null,
   "metadata": {
    "ExecuteTime": {
     "start_time": "2020-07-04T01:28:37.750Z"
    }
   },
   "outputs": [],
   "source": [
    "cmap = plt.get_cmap('Spectral_r')\n",
    "\n",
    "for edge in bar_frame.edges:\n",
    "    max_p = np.max(edge.in_prob)\n",
    "    colors = np.array([cmap(p/max_p) for p in edge.in_prob])\n",
    "    colors = np.append(colors, [colors[0]], axis=0)\n",
    "    \n",
    "    fig, ax = plt.subplots()\n",
    "    plt.plot((0, (np.max(bar_sim._bandstructure.k[0]*np.cos(edge.normal_angle)))*np.cos(edge.normal_angle)), (0, (np.max(bar_sim._bandstructure.k[1]*np.sin(edge.normal_angle)))*np.sin(edge.normal_angle)),'k')\n",
    "    plt.scatter(bar_sim._bandstructure.k[0], bar_sim._bandstructure.k[1],c=colors)\n",
    "    plt.xlabel(r'$k_x\\ (\\mathrm{\\AA^{-1}})$')\n",
    "    plt.ylabel(r'$k_y\\ (\\mathrm{\\AA^{-1}})$')\n",
    "    ax.set_aspect('equal')"
   ]
  },
  {
   "cell_type": "code",
   "execution_count": null,
   "metadata": {},
   "outputs": [],
   "source": []
  },
  {
   "cell_type": "code",
   "execution_count": null,
   "metadata": {
    "ExecuteTime": {
     "start_time": "2020-07-04T01:28:37.753Z"
    }
   },
   "outputs": [],
   "source": [
    "#%lprun -f bar_sim.get_sorted_intersections -f bar_sim.get_intersections -f bar_sim.step_position bar_sim.run_simulation(debug=False)"
   ]
  },
  {
   "cell_type": "code",
   "execution_count": null,
   "metadata": {
    "ExecuteTime": {
     "start_time": "2020-07-04T01:28:37.754Z"
    }
   },
   "outputs": [],
   "source": [
    "cProfile.runctx(\"bar_sim.run_simulation(10, debug=False)\", globals(), locals(), sort='cumtime')"
   ]
  },
  {
   "cell_type": "code",
   "execution_count": null,
   "metadata": {
    "ExecuteTime": {
     "start_time": "2020-07-04T01:28:37.756Z"
    }
   },
   "outputs": [],
   "source": [
    "bar_trajectories = bar_sim.run_simulation(10, debug=True)"
   ]
  },
  {
   "cell_type": "markdown",
   "metadata": {},
   "source": [
    "## TEF"
   ]
  },
  {
   "cell_type": "code",
   "execution_count": null,
   "metadata": {
    "ExecuteTime": {
     "start_time": "2020-07-04T01:28:37.758Z"
    }
   },
   "outputs": [],
   "source": [
    "k = delafossite()\n",
    "frame = caustic_frame.Frame('geo/tef.dxf')\n",
    "sim = mcs.Simulation(frame, k, 0, -1, 10)"
   ]
  },
  {
   "cell_type": "code",
   "execution_count": null,
   "metadata": {
    "ExecuteTime": {
     "start_time": "2020-07-04T01:28:37.760Z"
    }
   },
   "outputs": [],
   "source": [
    "%lprun -f sim.run_simulation -f sim._get_sorted_intersections -f sim._get_intersections -f sim._step_position -f sim._update_position sim.run_simulation(10, debug=False)"
   ]
  },
  {
   "cell_type": "code",
   "execution_count": null,
   "metadata": {
    "ExecuteTime": {
     "start_time": "2020-07-04T01:28:37.761Z"
    }
   },
   "outputs": [],
   "source": [
    "t0 = time.time()\n",
    "trajectories = sim.run_simulation(10, debug=False)\n",
    "t1 = time.time()\n",
    "print(t1-t0)"
   ]
  },
  {
   "cell_type": "code",
   "execution_count": null,
   "metadata": {
    "ExecuteTime": {
     "start_time": "2020-07-04T01:28:37.763Z"
    }
   },
   "outputs": [],
   "source": [
    "for trajectory in trajectories:\n",
    "    fig = frame.gen_fig()\n",
    "    ns, xs, ys = zip(*trajectory)\n",
    "    plt.plot(xs,ys, 'C3')\n",
    "    #plt.xlim(-3.5, 1.75)\n",
    "    #plt.ylim(-5.3, -4)"
   ]
  },
  {
   "cell_type": "code",
   "execution_count": null,
   "metadata": {},
   "outputs": [],
   "source": []
  },
  {
   "cell_type": "code",
   "execution_count": null,
   "metadata": {},
   "outputs": [],
   "source": []
  }
 ],
 "metadata": {
  "kernelspec": {
   "display_name": "Python 3",
   "language": "python",
   "name": "python3"
  },
  "language_info": {
   "codemirror_mode": {
    "name": "ipython",
    "version": 3
   },
   "file_extension": ".py",
   "mimetype": "text/x-python",
   "name": "python",
   "nbconvert_exporter": "python",
   "pygments_lexer": "ipython3",
   "version": "3.6.9"
  },
  "toc": {
   "base_numbering": 1,
   "nav_menu": {},
   "number_sections": true,
   "sideBar": true,
   "skip_h1_title": false,
   "title_cell": "Table of Contents",
   "title_sidebar": "Contents",
   "toc_cell": false,
   "toc_position": {},
   "toc_section_display": true,
   "toc_window_display": false
  }
 },
 "nbformat": 4,
 "nbformat_minor": 4
}
