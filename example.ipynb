{
 "cells": [
  {
   "cell_type": "markdown",
   "metadata": {
    "toc": "true"
   },
   "source": [
    "<h1>Table of Contents<span class=\"tocSkip\"></span></h1>\n",
    "<div class=\"toc\"><ul class=\"toc-item\"><li><span><a href=\"#Init\" data-toc-modified-id=\"Init-1\"><span class=\"toc-item-num\">1&nbsp;&nbsp;</span>Init</a></span></li><li><span><a href=\"#Ballistic-Monte-Carlo\" data-toc-modified-id=\"Ballistic-Monte-Carlo-2\"><span class=\"toc-item-num\">2&nbsp;&nbsp;</span>Ballistic Monte Carlo</a></span></li><li><span><a href=\"#Features-to-be-implemented\" data-toc-modified-id=\"Features-to-be-implemented-3\"><span class=\"toc-item-num\">3&nbsp;&nbsp;</span>Features to be implemented</a></span></li><li><span><a href=\"#Generate-frame\" data-toc-modified-id=\"Generate-frame-4\"><span class=\"toc-item-num\">4&nbsp;&nbsp;</span>Generate frame</a></span></li><li><span><a href=\"#Bandstructure\" data-toc-modified-id=\"Bandstructure-5\"><span class=\"toc-item-num\">5&nbsp;&nbsp;</span>Bandstructure</a></span></li><li><span><a href=\"#Simulation\" data-toc-modified-id=\"Simulation-6\"><span class=\"toc-item-num\">6&nbsp;&nbsp;</span>Simulation</a></span><ul class=\"toc-item\"><li><span><a href=\"#Serial\" data-toc-modified-id=\"Serial-6.1\"><span class=\"toc-item-num\">6.1&nbsp;&nbsp;</span>Serial</a></span></li><li><span><a href=\"#Parallel\" data-toc-modified-id=\"Parallel-6.2\"><span class=\"toc-item-num\">6.2&nbsp;&nbsp;</span>Parallel</a></span></li></ul></li><li><span><a href=\"#The-returned-data\" data-toc-modified-id=\"The-returned-data-7\"><span class=\"toc-item-num\">7&nbsp;&nbsp;</span>The returned data</a></span><ul class=\"toc-item\"><li><span><a href=\"#edge_to_count\" data-toc-modified-id=\"edge_to_count-7.1\"><span class=\"toc-item-num\">7.1&nbsp;&nbsp;</span>edge_to_count</a></span></li><li><span><a href=\"#Trajectories\" data-toc-modified-id=\"Trajectories-7.2\"><span class=\"toc-item-num\">7.2&nbsp;&nbsp;</span>Trajectories</a></span></li></ul></li><li><span><a href=\"#Ohmic-LInes\" data-toc-modified-id=\"Ohmic-LInes-8\"><span class=\"toc-item-num\">8&nbsp;&nbsp;</span>Ohmic LInes</a></span></li></ul></div>"
   ]
  },
  {
   "cell_type": "markdown",
   "metadata": {},
   "source": [
    "# Init"
   ]
  },
  {
   "cell_type": "code",
   "execution_count": 1,
   "metadata": {
    "ExecuteTime": {
     "end_time": "2020-08-18T00:13:35.486934Z",
     "start_time": "2020-08-18T00:13:35.105487Z"
    },
    "scrolled": true
   },
   "outputs": [],
   "source": [
    "import time\n",
    "import multiprocessing\n",
    "import numpy as np\n",
    "import matplotlib.pyplot as plt\n",
    "from cycler import cycler\n",
    "\n",
    "import geo.caustic_frame as caustic_frame\n",
    "import monte_carlo_simulation as mcs\n",
    "from bandstructure.delafossite_bandstructure import delafossite\n",
    "\n",
    "# Set default plotting parameters\n",
    "plt.rcParams['axes.prop_cycle'] = cycler(\n",
    "    color=['#E24A33','#348ABD','#988ED5','#777777',\n",
    "           '#FBC15E','#8EBA42','#FFB5B8'])\n",
    "\n",
    "plt.rcParams['axes.linewidth'] = 1\n",
    "plt.rcParams['xtick.direction'] = 'in'\n",
    "plt.rcParams['xtick.top'] = 'True'\n",
    "plt.rcParams['xtick.major.size'] = 5\n",
    "plt.rcParams['xtick.major.width'] = 1\n",
    "\n",
    "plt.rcParams['ytick.direction'] = 'in'\n",
    "plt.rcParams['ytick.right'] = 'True'\n",
    "plt.rcParams['ytick.major.size'] = 5\n",
    "plt.rcParams['ytick.major.width'] = 1\n",
    "\n",
    "plt.rcParams['lines.linewidth'] = 1.5\n",
    "plt.rcParams['font.size'] = 12\n",
    "plt.rcParams['axes.labelsize']=12"
   ]
  },
  {
   "cell_type": "markdown",
   "metadata": {},
   "source": [
    "# Ballistic Monte Carlo"
   ]
  },
  {
   "cell_type": "markdown",
   "metadata": {},
   "source": [
    "In ultra-clean 2D materials, transport is ballistic over large length scales at sufficiently low temperatures. This simulation platform aims to  semi-classically model ballistic transport for a generic Fermi surface in a given 2D geometry. By modeling the ballistic trajectories in field, on can gain an effective map of the current density within the device. Additionally, by monitoring the interactions of the charge carriers with the edges of the device, one can gain qaulitative predictions for the field-dependence of the voltage at a given ohmic contact."
   ]
  },
  {
   "cell_type": "markdown",
   "metadata": {},
   "source": [
    "# Features to be implemented"
   ]
  },
  {
   "cell_type": "markdown",
   "metadata": {},
   "source": [
    "- Specular reflection\n",
    "\n",
    "\n",
    "- Ability to selectively save trajectory information\n",
    "\n",
    "\n",
    "- Post processing of data\n",
    "    - Capability to calculate flux for a given line\n",
    "    - Generating color maps of electron density"
   ]
  },
  {
   "cell_type": "markdown",
   "metadata": {},
   "source": [
    "# Generate frame"
   ]
  },
  {
   "cell_type": "markdown",
   "metadata": {},
   "source": [
    "The Frame class represents the geometry we would like to simulate. To generate a frame load in a dxf file.\n",
    "\n",
    "When generating a caustic frame, all layers are collapsed down onto layer 0 to generate a single polygon. Layer 0 will function as a regular edge of the given material while higher layers will function as ohmic contacts. Any line segment of layer 0 that is totally encompased in a higher layer polygon is now labeled by the higher layer. A line segment of layer 0 that  intersects with a higher layer polygon is divided to a portion inside and outside of the higher layer polygon. The portion outside remains labeled by layer 0 while the portion inside aquires the layer of the polygon. \n",
    "\n",
    "Each layer functions as a single ohmic contact (or multiple contacts that are shorted together in the case of disjoin polygons). An injecting contact (layer 1) and a grounded contact (layer 2) are required. All highe layers will be considered as floating contacts.\n",
    "\n",
    "See the figures below for an example dxf which is then collapsed down into a Frame.\n",
    "\n",
    "\n",
    "Required layers: \n",
    "- 0: Body of device, must be a single polygon\n",
    "- 1: Injecting contact(s)\n",
    "- 2: Grounded contacts(s)\n",
    "\n",
    "Optional layers:\n",
    "- 3-n: floating contacts, grouped by layer"
   ]
  },
  {
   "cell_type": "code",
   "execution_count": 2,
   "metadata": {
    "ExecuteTime": {
     "end_time": "2020-08-18T00:13:35.802833Z",
     "start_time": "2020-08-18T00:13:35.488675Z"
    },
    "scrolled": false
   },
   "outputs": [
    {
     "data": {
      "image/png": "[encoded data removed]",
      "text/plain": [
       "<Figure size 432x288 with 1 Axes>"
      ]
     },
     "metadata": {
      "needs_background": "light"
     },
     "output_type": "display_data"
    },
    {
     "data": {
      "image/png": "[encoded data removed]",
      "text/plain": [
       "<Figure size 432x288 with 1 Axes>"
      ]
     },
     "metadata": {
      "needs_background": "light"
     },
     "output_type": "display_data"
    }
   ],
   "source": [
    "frame = caustic_frame.Frame('geo/bar.dxf')\n",
    "\n",
    "# Original DXF\n",
    "fig, ax = plt.subplots()\n",
    "colors = ['k', 'C0', 'C1']\n",
    "for i, layer in enumerate(frame.ps.keys()):\n",
    "    x,y = zip(*frame.ps[layer][0])\n",
    "    plt.plot(x,y, color=colors[i])\n",
    "plt.xlabel(r'x position ($\\mathrm{\\mu m}$)')\n",
    "plt.ylabel(r'y position ($\\mathrm{\\mu m}$)')\n",
    "plt.xlim(-1, 1)\n",
    "plt.ylim(-6, 6)\n",
    "ax.set_aspect('equal')\n",
    "\n",
    "# Caustic frame\n",
    "frame.gen_fig();\n",
    "plt.xlabel(r'x position ($\\mathrm{\\mu m}$)')\n",
    "plt.ylabel(r'y position ($\\mathrm{\\mu m}$)')\n",
    "plt.xlim(-1, 1)\n",
    "plt.ylim(-6, 6)\n",
    "ax = plt.gca()\n",
    "ax.set_aspect('equal')"
   ]
  },
  {
   "cell_type": "markdown",
   "metadata": {},
   "source": [
    "The frame consists of a collection of edges (a helper class where we easily store information about a given edge, such as its vertices, layer, and injection probability distribution). We will come back to this once we load in the bandstructure"
   ]
  },
  {
   "cell_type": "code",
   "execution_count": 3,
   "metadata": {
    "ExecuteTime": {
     "end_time": "2020-08-18T00:13:35.807127Z",
     "start_time": "2020-08-18T00:13:35.804373Z"
    }
   },
   "outputs": [
    {
     "data": {
      "text/plain": [
       "{'0': [[(-0.5, 5.0), (0.5, 5.0), (0.5, -5.0), (-0.5, -5.0), (-0.5, 5.0)]],\n",
       " '1': [[(-0.6, -4.9), (0.6, -4.9), (0.6, -5.1), (-0.6, -5.1), (-0.6, -4.9)]],\n",
       " '2': [[(-0.6, 5.1), (0.6, 5.1), (0.6, 4.9), (-0.6, 4.9), (-0.6, 5.1)]]}"
      ]
     },
     "execution_count": 3,
     "metadata": {},
     "output_type": "execute_result"
    }
   ],
   "source": [
    "frame.ps"
   ]
  },
  {
   "cell_type": "code",
   "execution_count": 4,
   "metadata": {
    "ExecuteTime": {
     "end_time": "2020-08-18T00:13:35.827588Z",
     "start_time": "2020-08-18T00:13:35.808634Z"
    }
   },
   "outputs": [
    {
     "data": {
      "text/plain": [
       "[((-0.5, 5.0), (0.5, 5.0), 2),\n",
       " ((0.5, 5.0), (0.5, 4.9), 2),\n",
       " ((0.5, 4.9), (0.5, -4.9), 0),\n",
       " ((0.5, -4.9), (0.5, -5.0), 1),\n",
       " ((0.5, -5.0), (-0.5, -5.0), 1),\n",
       " ((-0.5, -5.0), (-0.5, -4.9), 1),\n",
       " ((-0.5, -4.9), (-0.5, 4.9), 0),\n",
       " ((-0.5, 4.9), (-0.5, 5.0), 2)]"
      ]
     },
     "execution_count": 4,
     "metadata": {},
     "output_type": "execute_result"
    }
   ],
   "source": [
    "frame.edges"
   ]
  },
  {
   "cell_type": "markdown",
   "metadata": {},
   "source": [
    "# Bandstructure"
   ]
  },
  {
   "cell_type": "markdown",
   "metadata": {},
   "source": [
    "Next, we call the delafossite function, which returns a list of of arrays [kx, ky] to represent the Fermi surface. PdCoO2 experimentally has been show to have a nearly constant Fermi velocity across its Fermi surface, so I interpolate the points on the Fermi surface to be separated by constant arc length. If this is not the case for your material, the points should be separated by a distance proportional to the local Fermi velocity."
   ]
  },
  {
   "cell_type": "code",
   "execution_count": 5,
   "metadata": {
    "ExecuteTime": {
     "end_time": "2020-08-18T00:13:36.014520Z",
     "start_time": "2020-08-18T00:13:35.828688Z"
    }
   },
   "outputs": [
    {
     "data": {
      "image/png": "[encoded data removed]",
      "text/plain": [
       "<Figure size 432x288 with 1 Axes>"
      ]
     },
     "metadata": {
      "needs_background": "light"
     },
     "output_type": "display_data"
    }
   ],
   "source": [
    "k = delafossite()\n",
    "\n",
    "fig, ax = plt.subplots()\n",
    "plt.plot(k[0], k[1])\n",
    "plt.xlabel(r'$k_x\\ (\\mathrm{\\AA^{-1}})$')\n",
    "plt.ylabel(r'$k_y\\ (\\mathrm{\\AA^{-1}})$')\n",
    "ax.set_aspect('equal')"
   ]
  },
  {
   "cell_type": "markdown",
   "metadata": {},
   "source": [
    "# Simulation"
   ]
  },
  {
   "cell_type": "markdown",
   "metadata": {},
   "source": [
    "Our simulation is run through Simulation, which takes in our Frame and list of wavevectors. It also takes in: \n",
    "\n",
    "- phi: angle of rotation of device relative to crystal axis\n",
    "- field: Magnetic field to simulate\n",
    "\n",
    "Based on the Fermi surface and given field, the real space trajectories of the charge carriers will be calculated. It turns out that this will be a 90 degree rotation of the Fermi surface scaled by a factor of 1/field. The handedness of these real space trajectories depends on the sign of the field."
   ]
  },
  {
   "cell_type": "code",
   "execution_count": 6,
   "metadata": {
    "ExecuteTime": {
     "end_time": "2020-08-18T00:13:36.134192Z",
     "start_time": "2020-08-18T00:13:36.015803Z"
    }
   },
   "outputs": [
    {
     "data": {
      "image/png": "[encoded data removed]",
      "text/plain": [
       "<Figure size 432x288 with 1 Axes>"
      ]
     },
     "metadata": {
      "needs_background": "light"
     },
     "output_type": "display_data"
    }
   ],
   "source": [
    "phi = 0\n",
    "field = 10\n",
    "sim = mcs.Simulation(frame, k, phi, field)\n",
    "\n",
    "fig, ax = plt.subplots()\n",
    "if np.sign(field) == 1:\n",
    "    plt.plot([-0.02], [0], marker=r'$\\circlearrowleft$', ms=50, color='k')\n",
    "else:\n",
    "    plt.plot([-0.02], [0], marker=r'$\\circlearrowright$', ms=50, color='k')\n",
    "plt.plot(sim._bandstructure.r[0], sim._bandstructure.r[1])\n",
    "plt.xlabel(r'$r_x\\ (\\mathrm{\\mu m})$')\n",
    "plt.ylabel(r'$r_y\\ (\\mathrm{\\mu m})$')\n",
    "ax.set_aspect('equal')"
   ]
  },
  {
   "cell_type": "markdown",
   "metadata": {},
   "source": [
    "Simulation stores information on how electrons should be injected into the device. However, the probability distribution for which state electrons should be injected into depends on the normal direction of the edge (where we take the normal to point into the device). \n",
    "\n",
    "\n",
    "We can plot the probability distribution for a given edge in both reciprocal and real space (blue [red] corresponds to zero [high] probability of injection). The drawn black line corresponds to the normal vector for this edge. We can see that there is a non-zero probability only for injection into states where the charge carrier will propigate in the direction of the normal."
   ]
  },
  {
   "cell_type": "code",
   "execution_count": 7,
   "metadata": {
    "ExecuteTime": {
     "end_time": "2020-08-18T00:13:36.451361Z",
     "start_time": "2020-08-18T00:13:36.135561Z"
    },
    "scrolled": false
   },
   "outputs": [
    {
     "data": {
      "image/png": "[encoded data removed]",
      "text/plain": [
       "<Figure size 432x288 with 1 Axes>"
      ]
     },
     "metadata": {
      "needs_background": "light"
     },
     "output_type": "display_data"
    },
    {
     "data": {
      "image/png": "[encoded data removed]",
      "text/plain": [
       "<Figure size 432x288 with 1 Axes>"
      ]
     },
     "metadata": {
      "needs_background": "light"
     },
     "output_type": "display_data"
    }
   ],
   "source": [
    "cmap = plt.get_cmap('Spectral_r')\n",
    "    \n",
    "edge = sim._frame.edges[0]\n",
    "max_p = np.max(edge.in_prob)\n",
    "colors = np.array([cmap(p/max_p) for p in edge.in_prob])\n",
    "colors = np.append(colors, [colors[0]], axis=0)\n",
    "\n",
    "# Fermi surface\n",
    "fig, ax = plt.subplots()\n",
    "plt.plot((0, (np.max(sim._bandstructure.k[0]*np.cos(edge.normal_angle)))*np.cos(edge.normal_angle)), \n",
    "         (0, (np.max(sim._bandstructure.k[1]*np.sin(edge.normal_angle)))*np.sin(edge.normal_angle)),'k')\n",
    "plt.scatter(sim._bandstructure.k[0], sim._bandstructure.k[1],c=colors)\n",
    "plt.xlabel(r'$k_x\\ (\\mathrm{\\AA^{-1}})$')\n",
    "plt.ylabel(r'$k_y\\ (\\mathrm{\\AA^{-1}})$')\n",
    "ax.set_aspect('equal')\n",
    "\n",
    "# Real space trajectory\n",
    "fig, ax = plt.subplots()\n",
    "if np.sign(field) == 1:\n",
    "    plt.plot([-0.02], [0], marker=r'$\\circlearrowleft$', ms=50, color='k')\n",
    "else:\n",
    "    plt.plot([-0.02], [0], marker=r'$\\circlearrowright$', ms=50, color='k')\n",
    "plt.plot((0, (np.max(sim._bandstructure.r[0]*np.cos(edge.normal_angle)))*np.cos(edge.normal_angle)), \n",
    "         (0, (np.max(sim._bandstructure.r[1]*np.sin(edge.normal_angle)))*np.sin(edge.normal_angle)),'k')\n",
    "plt.scatter(sim._bandstructure.r[0], sim._bandstructure.r[1],c=colors)\n",
    "plt.xlabel(r'$r_x\\ (\\mathrm{\\mu m})$')\n",
    "plt.ylabel(r'$r_y\\ (\\mathrm{\\mu m})$')\n",
    "ax.set_aspect('equal')"
   ]
  },
  {
   "cell_type": "markdown",
   "metadata": {},
   "source": [
    "## Serial"
   ]
  },
  {
   "cell_type": "markdown",
   "metadata": {},
   "source": [
    "We are now ready to run the simulation. The simulation can be run in serial. Here we explicitly set the seed before each run of the simulation so that we can repeate the results."
   ]
  },
  {
   "cell_type": "code",
   "execution_count": 8,
   "metadata": {
    "ExecuteTime": {
     "end_time": "2020-08-18T00:14:05.845050Z",
     "start_time": "2020-08-18T00:13:36.453416Z"
    }
   },
   "outputs": [
    {
     "name": "stdout",
     "output_type": "stream",
     "text": [
      "10.0 T: [12387, 5589, 16896, 31192, 4994, 7317, 4151, 9212, 4536, 10621]\n",
      "10.7 T: [12759, 23183, 40706, 12485, 26762, 4435, 28784, 23003, 9617, 14041]\n",
      "11.4 T: [5093, 14136, 5042, 10154, 5377, 5518, 5791, 5539, 15954, 5146]\n",
      "12.1 T: [5314, 6154, 5193, 7369, 5564, 7469, 6363, 6329, 5043, 7087]\n",
      "12.9 T: [5801, 6328, 6443, 6032, 5702, 5801, 6127, 7163, 5441, 7135]\n",
      "13.6 T: [6558, 6201, 6761, 6439, 6431, 7997, 7004, 6587, 8107, 7778]\n",
      "14.3 T: [7095, 7304, 6890, 6956, 6411, 7054, 7851, 7744, 8224, 6950]\n",
      "15.0 T: [7335, 7732, 8330, 7573, 8560, 8085, 6808, 8233, 8107, 6546]\n",
      "Completed in 139.5 s\n"
     ]
    }
   ],
   "source": [
    "k = delafossite()\n",
    "bar_frame = caustic_frame.Frame('geo/bar.dxf')\n",
    "fields = np.linspace(10, 15, 8)\n",
    "phi = 0\n",
    "n_inject = 10\n",
    "\n",
    "start = time.time()\n",
    "for field in fields:\n",
    "    np.random.seed(42)\n",
    "    bar_sim = mcs.Simulation(bar_frame, k, phi, field)\n",
    "    edge_to_collisions, trajectories = bar_sim.run_simulation(n_inject)\n",
    "    print(f'{field:.1f} T: {list(map(len, trajectories))}')\n",
    "print(f'Completed in {time.time() - start:.1f} s')"
   ]
  },
  {
   "cell_type": "markdown",
   "metadata": {},
   "source": [
    "## Parallel"
   ]
  },
  {
   "cell_type": "markdown",
   "metadata": {},
   "source": [
    "We can also run this in parallel! However, we need to be careful with seeding. If we set maxtasksperchild=1 then each process in our multiprocessing pool will begin with the same seed. This is much quicker!"
   ]
  },
  {
   "cell_type": "code",
   "execution_count": 9,
   "metadata": {
    "ExecuteTime": {
     "end_time": "2020-08-18T00:14:18.004214Z",
     "start_time": "2020-08-18T00:14:05.846451Z"
    }
   },
   "outputs": [
    {
     "name": "stdout",
     "output_type": "stream",
     "text": [
      "10.0 T: [12387, 5589, 16896, 31192, 4994, 7317, 4151, 9212, 4536, 10621]\n",
      "10.7 T: [12759, 23183, 40706, 12485, 26762, 4435, 28784, 23003, 9617, 14041]\n",
      "11.4 T: [5093, 14136, 5042, 10154, 5377, 5518, 5791, 5539, 15954, 5146]\n",
      "12.1 T: [5314, 6154, 5193, 7369, 5564, 7469, 6363, 6329, 5043, 7087]\n",
      "12.9 T: [5801, 6328, 6443, 6032, 5702, 5801, 6127, 7163, 5441, 7135]\n",
      "13.6 T: [6558, 6201, 6761, 6439, 6431, 7997, 7004, 6587, 8107, 7778]\n",
      "14.3 T: [7095, 7304, 6890, 6956, 6411, 7054, 7851, 7744, 8224, 6950]\n",
      "15.0 T: [7335, 7732, 8330, 7573, 8560, 8085, 6808, 8233, 8107, 6546]\n",
      "Completed in 142.2 s\n"
     ]
    }
   ],
   "source": [
    "start = time.time()\n",
    "results = []\n",
    "np.random.seed(42)\n",
    "with multiprocessing.Pool(maxtasksperchild=1) as p:\n",
    "    for field in fields:\n",
    "        bar_sim = mcs.Simulation(bar_frame, k, 0, field)\n",
    "        results.append(p.apply_async(bar_sim.run_simulation, [n_inject]))\n",
    "    p.close()\n",
    "    p.join()\n",
    "for r, field in zip(results, fields):\n",
    "    print(f'{field:.1f} T: {list(map(len, r.get()[1]))}')\n",
    "print(f'Completed in {time.time() - start:.1f} s')"
   ]
  },
  {
   "cell_type": "markdown",
   "metadata": {},
   "source": [
    "# The returned data"
   ]
  },
  {
   "cell_type": "markdown",
   "metadata": {},
   "source": [
    "## edge_to_count"
   ]
  },
  {
   "cell_type": "markdown",
   "metadata": {},
   "source": [
    "The main data set is the number of collisions with each edge of the device. This can be used to map to the voltage at a non-grounded contact.\n",
    "\n",
    "The data set is returned as a dictionary which maps between the edges and the number of collisions."
   ]
  },
  {
   "cell_type": "code",
   "execution_count": 10,
   "metadata": {
    "ExecuteTime": {
     "end_time": "2020-08-18T00:14:18.014565Z",
     "start_time": "2020-08-18T00:14:18.006212Z"
    }
   },
   "outputs": [
    {
     "name": "stdout",
     "output_type": "stream",
     "text": [
      "10.0 T: [10, 0, 82, 1, 20, 3, 173, 0]\n",
      "10.7 T: [10, 0, 171, 5, 23, 2, 273, 0]\n",
      "11.4 T: [10, 0, 25, 0, 7, 1, 131, 0]\n",
      "12.1 T: [10, 0, 0, 0, 7, 1, 116, 0]\n",
      "12.9 T: [9, 0, 0, 1, 3, 1, 121, 1]\n",
      "13.6 T: [10, 0, 1, 0, 8, 1, 129, 0]\n",
      "14.3 T: [10, 0, 0, 0, 12, 1, 138, 0]\n",
      "15.0 T: [10, 0, 0, 1, 9, 4, 150, 0]\n"
     ]
    }
   ],
   "source": [
    "for r, field in zip(results, fields):\n",
    "    print(f'{field:.1f} T: {list(r.get()[0].values())}')"
   ]
  },
  {
   "cell_type": "markdown",
   "metadata": {},
   "source": [
    "We will group the counts by layer"
   ]
  },
  {
   "cell_type": "code",
   "execution_count": 11,
   "metadata": {
    "ExecuteTime": {
     "end_time": "2020-08-18T00:14:18.022396Z",
     "start_time": "2020-08-18T00:14:18.016183Z"
    }
   },
   "outputs": [
    {
     "data": {
      "text/plain": [
       "{2: array([10., 10., 10., 10., 10., 10., 10., 10.]),\n",
       " 0: array([255., 444., 156., 116., 121., 130., 138., 150.]),\n",
       " 1: array([24., 30.,  8.,  8.,  5.,  9., 13., 14.])}"
      ]
     },
     "execution_count": 11,
     "metadata": {},
     "output_type": "execute_result"
    }
   ],
   "source": [
    "ohmstats = mcs.calc_ohmstats(fields, results)\n",
    "ohmstats"
   ]
  },
  {
   "cell_type": "markdown",
   "metadata": {},
   "source": [
    "The frame contains the lengths of each ohmic (layer in the dxf)"
   ]
  },
  {
   "cell_type": "code",
   "execution_count": 12,
   "metadata": {
    "ExecuteTime": {
     "end_time": "2020-08-18T00:14:18.032468Z",
     "start_time": "2020-08-18T00:14:18.023599Z"
    }
   },
   "outputs": [
    {
     "data": {
      "text/plain": [
       "{2: 1.1999999999999993, 0: 19.6, 1: 1.1999999999999993}"
      ]
     },
     "execution_count": 12,
     "metadata": {},
     "output_type": "execute_result"
    }
   ],
   "source": [
    "frame.ohmic_lengths"
   ]
  },
  {
   "cell_type": "markdown",
   "metadata": {},
   "source": [
    "Now plot the results vs. field. We don't plot the grounded contact or the regular edges"
   ]
  },
  {
   "cell_type": "code",
   "execution_count": 13,
   "metadata": {
    "ExecuteTime": {
     "end_time": "2020-08-18T00:14:18.157826Z",
     "start_time": "2020-08-18T00:14:18.033713Z"
    }
   },
   "outputs": [
    {
     "data": {
      "image/png": "[encoded data removed]",
      "text/plain": [
       "<Figure size 432x288 with 1 Axes>"
      ]
     },
     "metadata": {
      "needs_background": "light"
     },
     "output_type": "display_data"
    }
   ],
   "source": [
    "fig = plt.figure()\n",
    "for layer in ohmstats.keys():\n",
    "    if layer != 1 and layer != 3:\n",
    "        plt.plot(fields, ohmstats[layer]/(n_inject*frame.ohmic_lengths[layer]))\n",
    "plt.xlabel(r'Field (T)')\n",
    "plt.ylabel(r'Voltage (arb. units)')\n",
    "plt.show()"
   ]
  },
  {
   "cell_type": "markdown",
   "metadata": {},
   "source": [
    "## Trajectories"
   ]
  },
  {
   "cell_type": "markdown",
   "metadata": {},
   "source": [
    "The simulation also can return information on the paths the charge carriers took."
   ]
  },
  {
   "cell_type": "code",
   "execution_count": 14,
   "metadata": {
    "ExecuteTime": {
     "end_time": "2020-08-18T00:14:18.881423Z",
     "start_time": "2020-08-18T00:14:18.159613Z"
    },
    "scrolled": false
   },
   "outputs": [
    {
     "data": {
      "image/png": "[encoded data removed]",
      "text/plain": [
       "<Figure size 432x288 with 1 Axes>"
      ]
     },
     "metadata": {
      "needs_background": "light"
     },
     "output_type": "display_data"
    },
    {
     "data": {
      "image/png": "[encoded data removed]",
      "text/plain": [
       "<Figure size 432x288 with 1 Axes>"
      ]
     },
     "metadata": {
      "needs_background": "light"
     },
     "output_type": "display_data"
    },
    {
     "data": {
      "image/png": "[encoded data removed]",
      "text/plain": [
       "<Figure size 432x288 with 1 Axes>"
      ]
     },
     "metadata": {
      "needs_background": "light"
     },
     "output_type": "display_data"
    },
    {
     "data": {
      "image/png": "[encoded data removed]",
      "text/plain": [
       "<Figure size 432x288 with 1 Axes>"
      ]
     },
     "metadata": {
      "needs_background": "light"
     },
     "output_type": "display_data"
    },
    {
     "data": {
      "image/png": "[encoded data removed]",
      "text/plain": [
       "<Figure size 432x288 with 1 Axes>"
      ]
     },
     "metadata": {
      "needs_background": "light"
     },
     "output_type": "display_data"
    },
    {
     "data": {
      "image/png": "[encoded data removed]",
      "text/plain": [
       "<Figure size 432x288 with 1 Axes>"
      ]
     },
     "metadata": {
      "needs_background": "light"
     },
     "output_type": "display_data"
    },
    {
     "data": {
      "image/png": "[encoded data removed]",
      "text/plain": [
       "<Figure size 432x288 with 1 Axes>"
      ]
     },
     "metadata": {
      "needs_background": "light"
     },
     "output_type": "display_data"
    },
    {
     "data": {
      "image/png": "[encoded data removed]",
      "text/plain": [
       "<Figure size 432x288 with 1 Axes>"
      ]
     },
     "metadata": {
      "needs_background": "light"
     },
     "output_type": "display_data"
    }
   ],
   "source": [
    "for i,result in enumerate(results):\n",
    "    _, trajectories = result.get()\n",
    "    trajectory = trajectories[0]\n",
    "    fig = bar_frame.gen_fig()\n",
    "    ns, xs, ys, state, edge = zip(*trajectory)\n",
    "    plt.plot(xs,ys, 'C3-')\n",
    "    f = fields[i]\n",
    "    plt.title(str(round(fields[i],1))+' T')\n",
    "    plt.xlim(-1, 1)\n",
    "    plt.ylim(-6, 6)\n",
    "    ax = plt.gca()\n",
    "    ax.set_aspect('equal')"
   ]
  },
  {
   "cell_type": "markdown",
   "metadata": {},
   "source": [
    "## Trying to animate a trajectory"
   ]
  },
  {
   "cell_type": "code",
   "execution_count": 79,
   "metadata": {},
   "outputs": [
    {
     "data": {
      "application/javascript": [
       "/* Put everything inside the global mpl namespace */\n",
       "/* global mpl */\n",
       "window.mpl = {};\n",
       "\n",
       "mpl.get_websocket_type = function () {\n",
       "    if (typeof WebSocket !== 'undefined') {\n",
       "        return WebSocket;\n",
       "    } else if (typeof MozWebSocket !== 'undefined') {\n",
       "        return MozWebSocket;\n",
       "    } else {\n",
       "        alert(\n",
       "            'Your browser does not have WebSocket support. ' +\n",
       "                'Please try Chrome, Safari or Firefox ≥ 6. ' +\n",
       "                'Firefox 4 and 5 are also supported but you ' +\n",
       "                'have to enable WebSockets in about:config.'\n",
       "        );\n",
       "    }\n",
       "};\n",
       "\n",
       "mpl.figure = function (figure_id, websocket, ondownload, parent_element) {\n",
       "    this.id = figure_id;\n",
       "\n",
       "    this.ws = websocket;\n",
       "\n",
       "    this.supports_binary = this.ws.binaryType !== undefined;\n",
       "\n",
       "    if (!this.supports_binary) {\n",
       "        var warnings = document.getElementById('mpl-warnings');\n",
       "        if (warnings) {\n",
       "            warnings.style.display = 'block';\n",
       "            warnings.textContent =\n",
       "                'This browser does not support binary websocket messages. ' +\n",
       "                'Performance may be slow.';\n",
       "        }\n",
       "    }\n",
       "\n",
       "    this.imageObj = new Image();\n",
       "\n",
       "    this.context = undefined;\n",
       "    this.message = undefined;\n",
       "    this.canvas = undefined;\n",
       "    this.rubberband_canvas = undefined;\n",
       "    this.rubberband_context = undefined;\n",
       "    this.format_dropdown = undefined;\n",
       "\n",
       "    this.image_mode = 'full';\n",
       "\n",
       "    this.root = document.createElement('div');\n",
       "    this.root.setAttribute('style', 'display: inline-block');\n",
       "    this._root_extra_style(this.root);\n",
       "\n",
       "    parent_element.appendChild(this.root);\n",
       "\n",
       "    this._init_header(this);\n",
       "    this._init_canvas(this);\n",
       "    this._init_toolbar(this);\n",
       "\n",
       "    var fig = this;\n",
       "\n",
       "    this.waiting = false;\n",
       "\n",
       "    this.ws.onopen = function () {\n",
       "        fig.send_message('supports_binary', { value: fig.supports_binary });\n",
       "        fig.send_message('send_image_mode', {});\n",
       "        if (fig.ratio !== 1) {\n",
       "            fig.send_message('set_dpi_ratio', { dpi_ratio: fig.ratio });\n",
       "        }\n",
       "        fig.send_message('refresh', {});\n",
       "    };\n",
       "\n",
       "    this.imageObj.onload = function () {\n",
       "        if (fig.image_mode === 'full') {\n",
       "            // Full images could contain transparency (where diff images\n",
       "            // almost always do), so we need to clear the canvas so that\n",
       "            // there is no ghosting.\n",
       "            fig.context.clearRect(0, 0, fig.canvas.width, fig.canvas.height);\n",
       "        }\n",
       "        fig.context.drawImage(fig.imageObj, 0, 0);\n",
       "    };\n",
       "\n",
       "    this.imageObj.onunload = function () {\n",
       "        fig.ws.close();\n",
       "    };\n",
       "\n",
       "    this.ws.onmessage = this._make_on_message_function(this);\n",
       "\n",
       "    this.ondownload = ondownload;\n",
       "};\n",
       "\n",
       "mpl.figure.prototype._init_header = function () {\n",
       "    var titlebar = document.createElement('div');\n",
       "    titlebar.classList =\n",
       "        'ui-dialog-titlebar ui-widget-header ui-corner-all ui-helper-clearfix';\n",
       "    var titletext = document.createElement('div');\n",
       "    titletext.classList = 'ui-dialog-title';\n",
       "    titletext.setAttribute(\n",
       "        'style',\n",
       "        'width: 100%; text-align: center; padding: 3px;'\n",
       "    );\n",
       "    titlebar.appendChild(titletext);\n",
       "    this.root.appendChild(titlebar);\n",
       "    this.header = titletext;\n",
       "};\n",
       "\n",
       "mpl.figure.prototype._canvas_extra_style = function (_canvas_div) {};\n",
       "\n",
       "mpl.figure.prototype._root_extra_style = function (_canvas_div) {};\n",
       "\n",
       "mpl.figure.prototype._init_canvas = function () {\n",
       "    var fig = this;\n",
       "\n",
       "    var canvas_div = (this.canvas_div = document.createElement('div'));\n",
       "    canvas_div.setAttribute(\n",
       "        'style',\n",
       "        'border: 1px solid #ddd;' +\n",
       "            'box-sizing: content-box;' +\n",
       "            'clear: both;' +\n",
       "            'min-height: 1px;' +\n",
       "            'min-width: 1px;' +\n",
       "            'outline: 0;' +\n",
       "            'overflow: hidden;' +\n",
       "            'position: relative;' +\n",
       "            'resize: both;'\n",
       "    );\n",
       "\n",
       "    function on_keyboard_event_closure(name) {\n",
       "        return function (event) {\n",
       "            return fig.key_event(event, name);\n",
       "        };\n",
       "    }\n",
       "\n",
       "    canvas_div.addEventListener(\n",
       "        'keydown',\n",
       "        on_keyboard_event_closure('key_press')\n",
       "    );\n",
       "    canvas_div.addEventListener(\n",
       "        'keyup',\n",
       "        on_keyboard_event_closure('key_release')\n",
       "    );\n",
       "\n",
       "    this._canvas_extra_style(canvas_div);\n",
       "    this.root.appendChild(canvas_div);\n",
       "\n",
       "    var canvas = (this.canvas = document.createElement('canvas'));\n",
       "    canvas.classList.add('mpl-canvas');\n",
       "    canvas.setAttribute('style', 'box-sizing: content-box;');\n",
       "\n",
       "    this.context = canvas.getContext('2d');\n",
       "\n",
       "    var backingStore =\n",
       "        this.context.backingStorePixelRatio ||\n",
       "        this.context.webkitBackingStorePixelRatio ||\n",
       "        this.context.mozBackingStorePixelRatio ||\n",
       "        this.context.msBackingStorePixelRatio ||\n",
       "        this.context.oBackingStorePixelRatio ||\n",
       "        this.context.backingStorePixelRatio ||\n",
       "        1;\n",
       "\n",
       "    this.ratio = (window.devicePixelRatio || 1) / backingStore;\n",
       "\n",
       "    var rubberband_canvas = (this.rubberband_canvas = document.createElement(\n",
       "        'canvas'\n",
       "    ));\n",
       "    rubberband_canvas.setAttribute(\n",
       "        'style',\n",
       "        'box-sizing: content-box; position: absolute; left: 0; top: 0; z-index: 1;'\n",
       "    );\n",
       "\n",
       "    // Apply a ponyfill if ResizeObserver is not implemented by browser.\n",
       "    if (this.ResizeObserver === undefined) {\n",
       "        if (window.ResizeObserver !== undefined) {\n",
       "            this.ResizeObserver = window.ResizeObserver;\n",
       "        } else {\n",
       "            var obs = _JSXTOOLS_RESIZE_OBSERVER({});\n",
       "            this.ResizeObserver = obs.ResizeObserver;\n",
       "        }\n",
       "    }\n",
       "\n",
       "    this.resizeObserverInstance = new this.ResizeObserver(function (entries) {\n",
       "        var nentries = entries.length;\n",
       "        for (var i = 0; i < nentries; i++) {\n",
       "            var entry = entries[i];\n",
       "            var width, height;\n",
       "            if (entry.contentBoxSize) {\n",
       "                if (entry.contentBoxSize instanceof Array) {\n",
       "                    // Chrome 84 implements new version of spec.\n",
       "                    width = entry.contentBoxSize[0].inlineSize;\n",
       "                    height = entry.contentBoxSize[0].blockSize;\n",
       "                } else {\n",
       "                    // Firefox implements old version of spec.\n",
       "                    width = entry.contentBoxSize.inlineSize;\n",
       "                    height = entry.contentBoxSize.blockSize;\n",
       "                }\n",
       "            } else {\n",
       "                // Chrome <84 implements even older version of spec.\n",
       "                width = entry.contentRect.width;\n",
       "                height = entry.contentRect.height;\n",
       "            }\n",
       "\n",
       "            // Keep the size of the canvas and rubber band canvas in sync with\n",
       "            // the canvas container.\n",
       "            if (entry.devicePixelContentBoxSize) {\n",
       "                // Chrome 84 implements new version of spec.\n",
       "                canvas.setAttribute(\n",
       "                    'width',\n",
       "                    entry.devicePixelContentBoxSize[0].inlineSize\n",
       "                );\n",
       "                canvas.setAttribute(\n",
       "                    'height',\n",
       "                    entry.devicePixelContentBoxSize[0].blockSize\n",
       "                );\n",
       "            } else {\n",
       "                canvas.setAttribute('width', width * fig.ratio);\n",
       "                canvas.setAttribute('height', height * fig.ratio);\n",
       "            }\n",
       "            canvas.setAttribute(\n",
       "                'style',\n",
       "                'width: ' + width + 'px; height: ' + height + 'px;'\n",
       "            );\n",
       "\n",
       "            rubberband_canvas.setAttribute('width', width);\n",
       "            rubberband_canvas.setAttribute('height', height);\n",
       "\n",
       "            // And update the size in Python. We ignore the initial 0/0 size\n",
       "            // that occurs as the element is placed into the DOM, which should\n",
       "            // otherwise not happen due to the minimum size styling.\n",
       "            if (fig.ws.readyState == 1 && width != 0 && height != 0) {\n",
       "                fig.request_resize(width, height);\n",
       "            }\n",
       "        }\n",
       "    });\n",
       "    this.resizeObserverInstance.observe(canvas_div);\n",
       "\n",
       "    function on_mouse_event_closure(name) {\n",
       "        return function (event) {\n",
       "            return fig.mouse_event(event, name);\n",
       "        };\n",
       "    }\n",
       "\n",
       "    rubberband_canvas.addEventListener(\n",
       "        'mousedown',\n",
       "        on_mouse_event_closure('button_press')\n",
       "    );\n",
       "    rubberband_canvas.addEventListener(\n",
       "        'mouseup',\n",
       "        on_mouse_event_closure('button_release')\n",
       "    );\n",
       "    rubberband_canvas.addEventListener(\n",
       "        'dblclick',\n",
       "        on_mouse_event_closure('dblclick')\n",
       "    );\n",
       "    // Throttle sequential mouse events to 1 every 20ms.\n",
       "    rubberband_canvas.addEventListener(\n",
       "        'mousemove',\n",
       "        on_mouse_event_closure('motion_notify')\n",
       "    );\n",
       "\n",
       "    rubberband_canvas.addEventListener(\n",
       "        'mouseenter',\n",
       "        on_mouse_event_closure('figure_enter')\n",
       "    );\n",
       "    rubberband_canvas.addEventListener(\n",
       "        'mouseleave',\n",
       "        on_mouse_event_closure('figure_leave')\n",
       "    );\n",
       "\n",
       "    canvas_div.addEventListener('wheel', function (event) {\n",
       "        if (event.deltaY < 0) {\n",
       "            event.step = 1;\n",
       "        } else {\n",
       "            event.step = -1;\n",
       "        }\n",
       "        on_mouse_event_closure('scroll')(event);\n",
       "    });\n",
       "\n",
       "    canvas_div.appendChild(canvas);\n",
       "    canvas_div.appendChild(rubberband_canvas);\n",
       "\n",
       "    this.rubberband_context = rubberband_canvas.getContext('2d');\n",
       "    this.rubberband_context.strokeStyle = '#000000';\n",
       "\n",
       "    this._resize_canvas = function (width, height, forward) {\n",
       "        if (forward) {\n",
       "            canvas_div.style.width = width + 'px';\n",
       "            canvas_div.style.height = height + 'px';\n",
       "        }\n",
       "    };\n",
       "\n",
       "    // Disable right mouse context menu.\n",
       "    this.rubberband_canvas.addEventListener('contextmenu', function (_e) {\n",
       "        event.preventDefault();\n",
       "        return false;\n",
       "    });\n",
       "\n",
       "    function set_focus() {\n",
       "        canvas.focus();\n",
       "        canvas_div.focus();\n",
       "    }\n",
       "\n",
       "    window.setTimeout(set_focus, 100);\n",
       "};\n",
       "\n",
       "mpl.figure.prototype._init_toolbar = function () {\n",
       "    var fig = this;\n",
       "\n",
       "    var toolbar = document.createElement('div');\n",
       "    toolbar.classList = 'mpl-toolbar';\n",
       "    this.root.appendChild(toolbar);\n",
       "\n",
       "    function on_click_closure(name) {\n",
       "        return function (_event) {\n",
       "            return fig.toolbar_button_onclick(name);\n",
       "        };\n",
       "    }\n",
       "\n",
       "    function on_mouseover_closure(tooltip) {\n",
       "        return function (event) {\n",
       "            if (!event.currentTarget.disabled) {\n",
       "                return fig.toolbar_button_onmouseover(tooltip);\n",
       "            }\n",
       "        };\n",
       "    }\n",
       "\n",
       "    fig.buttons = {};\n",
       "    var buttonGroup = document.createElement('div');\n",
       "    buttonGroup.classList = 'mpl-button-group';\n",
       "    for (var toolbar_ind in mpl.toolbar_items) {\n",
       "        var name = mpl.toolbar_items[toolbar_ind][0];\n",
       "        var tooltip = mpl.toolbar_items[toolbar_ind][1];\n",
       "        var image = mpl.toolbar_items[toolbar_ind][2];\n",
       "        var method_name = mpl.toolbar_items[toolbar_ind][3];\n",
       "\n",
       "        if (!name) {\n",
       "            /* Instead of a spacer, we start a new button group. */\n",
       "            if (buttonGroup.hasChildNodes()) {\n",
       "                toolbar.appendChild(buttonGroup);\n",
       "            }\n",
       "            buttonGroup = document.createElement('div');\n",
       "            buttonGroup.classList = 'mpl-button-group';\n",
       "            continue;\n",
       "        }\n",
       "\n",
       "        var button = (fig.buttons[name] = document.createElement('button'));\n",
       "        button.classList = 'mpl-widget';\n",
       "        button.setAttribute('role', 'button');\n",
       "        button.setAttribute('aria-disabled', 'false');\n",
       "        button.addEventListener('click', on_click_closure(method_name));\n",
       "        button.addEventListener('mouseover', on_mouseover_closure(tooltip));\n",
       "\n",
       "        var icon_img = document.createElement('img');\n",
       "        icon_img.src = '_images/' + image + '.png';\n",
       "        icon_img.srcset = '_images/' + image + '_large.png 2x';\n",
       "        icon_img.alt = tooltip;\n",
       "        button.appendChild(icon_img);\n",
       "\n",
       "        buttonGroup.appendChild(button);\n",
       "    }\n",
       "\n",
       "    if (buttonGroup.hasChildNodes()) {\n",
       "        toolbar.appendChild(buttonGroup);\n",
       "    }\n",
       "\n",
       "    var fmt_picker = document.createElement('select');\n",
       "    fmt_picker.classList = 'mpl-widget';\n",
       "    toolbar.appendChild(fmt_picker);\n",
       "    this.format_dropdown = fmt_picker;\n",
       "\n",
       "    for (var ind in mpl.extensions) {\n",
       "        var fmt = mpl.extensions[ind];\n",
       "        var option = document.createElement('option');\n",
       "        option.selected = fmt === mpl.default_extension;\n",
       "        option.innerHTML = fmt;\n",
       "        fmt_picker.appendChild(option);\n",
       "    }\n",
       "\n",
       "    var status_bar = document.createElement('span');\n",
       "    status_bar.classList = 'mpl-message';\n",
       "    toolbar.appendChild(status_bar);\n",
       "    this.message = status_bar;\n",
       "};\n",
       "\n",
       "mpl.figure.prototype.request_resize = function (x_pixels, y_pixels) {\n",
       "    // Request matplotlib to resize the figure. Matplotlib will then trigger a resize in the client,\n",
       "    // which will in turn request a refresh of the image.\n",
       "    this.send_message('resize', { width: x_pixels, height: y_pixels });\n",
       "};\n",
       "\n",
       "mpl.figure.prototype.send_message = function (type, properties) {\n",
       "    properties['type'] = type;\n",
       "    properties['figure_id'] = this.id;\n",
       "    this.ws.send(JSON.stringify(properties));\n",
       "};\n",
       "\n",
       "mpl.figure.prototype.send_draw_message = function () {\n",
       "    if (!this.waiting) {\n",
       "        this.waiting = true;\n",
       "        this.ws.send(JSON.stringify({ type: 'draw', figure_id: this.id }));\n",
       "    }\n",
       "};\n",
       "\n",
       "mpl.figure.prototype.handle_save = function (fig, _msg) {\n",
       "    var format_dropdown = fig.format_dropdown;\n",
       "    var format = format_dropdown.options[format_dropdown.selectedIndex].value;\n",
       "    fig.ondownload(fig, format);\n",
       "};\n",
       "\n",
       "mpl.figure.prototype.handle_resize = function (fig, msg) {\n",
       "    var size = msg['size'];\n",
       "    if (size[0] !== fig.canvas.width || size[1] !== fig.canvas.height) {\n",
       "        fig._resize_canvas(size[0], size[1], msg['forward']);\n",
       "        fig.send_message('refresh', {});\n",
       "    }\n",
       "};\n",
       "\n",
       "mpl.figure.prototype.handle_rubberband = function (fig, msg) {\n",
       "    var x0 = msg['x0'] / fig.ratio;\n",
       "    var y0 = (fig.canvas.height - msg['y0']) / fig.ratio;\n",
       "    var x1 = msg['x1'] / fig.ratio;\n",
       "    var y1 = (fig.canvas.height - msg['y1']) / fig.ratio;\n",
       "    x0 = Math.floor(x0) + 0.5;\n",
       "    y0 = Math.floor(y0) + 0.5;\n",
       "    x1 = Math.floor(x1) + 0.5;\n",
       "    y1 = Math.floor(y1) + 0.5;\n",
       "    var min_x = Math.min(x0, x1);\n",
       "    var min_y = Math.min(y0, y1);\n",
       "    var width = Math.abs(x1 - x0);\n",
       "    var height = Math.abs(y1 - y0);\n",
       "\n",
       "    fig.rubberband_context.clearRect(\n",
       "        0,\n",
       "        0,\n",
       "        fig.canvas.width / fig.ratio,\n",
       "        fig.canvas.height / fig.ratio\n",
       "    );\n",
       "\n",
       "    fig.rubberband_context.strokeRect(min_x, min_y, width, height);\n",
       "};\n",
       "\n",
       "mpl.figure.prototype.handle_figure_label = function (fig, msg) {\n",
       "    // Updates the figure title.\n",
       "    fig.header.textContent = msg['label'];\n",
       "};\n",
       "\n",
       "mpl.figure.prototype.handle_cursor = function (fig, msg) {\n",
       "    var cursor = msg['cursor'];\n",
       "    switch (cursor) {\n",
       "        case 0:\n",
       "            cursor = 'pointer';\n",
       "            break;\n",
       "        case 1:\n",
       "            cursor = 'default';\n",
       "            break;\n",
       "        case 2:\n",
       "            cursor = 'crosshair';\n",
       "            break;\n",
       "        case 3:\n",
       "            cursor = 'move';\n",
       "            break;\n",
       "    }\n",
       "    fig.rubberband_canvas.style.cursor = cursor;\n",
       "};\n",
       "\n",
       "mpl.figure.prototype.handle_message = function (fig, msg) {\n",
       "    fig.message.textContent = msg['message'];\n",
       "};\n",
       "\n",
       "mpl.figure.prototype.handle_draw = function (fig, _msg) {\n",
       "    // Request the server to send over a new figure.\n",
       "    fig.send_draw_message();\n",
       "};\n",
       "\n",
       "mpl.figure.prototype.handle_image_mode = function (fig, msg) {\n",
       "    fig.image_mode = msg['mode'];\n",
       "};\n",
       "\n",
       "mpl.figure.prototype.handle_history_buttons = function (fig, msg) {\n",
       "    for (var key in msg) {\n",
       "        if (!(key in fig.buttons)) {\n",
       "            continue;\n",
       "        }\n",
       "        fig.buttons[key].disabled = !msg[key];\n",
       "        fig.buttons[key].setAttribute('aria-disabled', !msg[key]);\n",
       "    }\n",
       "};\n",
       "\n",
       "mpl.figure.prototype.handle_navigate_mode = function (fig, msg) {\n",
       "    if (msg['mode'] === 'PAN') {\n",
       "        fig.buttons['Pan'].classList.add('active');\n",
       "        fig.buttons['Zoom'].classList.remove('active');\n",
       "    } else if (msg['mode'] === 'ZOOM') {\n",
       "        fig.buttons['Pan'].classList.remove('active');\n",
       "        fig.buttons['Zoom'].classList.add('active');\n",
       "    } else {\n",
       "        fig.buttons['Pan'].classList.remove('active');\n",
       "        fig.buttons['Zoom'].classList.remove('active');\n",
       "    }\n",
       "};\n",
       "\n",
       "mpl.figure.prototype.updated_canvas_event = function () {\n",
       "    // Called whenever the canvas gets updated.\n",
       "    this.send_message('ack', {});\n",
       "};\n",
       "\n",
       "// A function to construct a web socket function for onmessage handling.\n",
       "// Called in the figure constructor.\n",
       "mpl.figure.prototype._make_on_message_function = function (fig) {\n",
       "    return function socket_on_message(evt) {\n",
       "        if (evt.data instanceof Blob) {\n",
       "            var img = evt.data;\n",
       "            if (img.type !== 'image/png') {\n",
       "                /* FIXME: We get \"Resource interpreted as Image but\n",
       "                 * transferred with MIME type text/plain:\" errors on\n",
       "                 * Chrome.  But how to set the MIME type?  It doesn't seem\n",
       "                 * to be part of the websocket stream */\n",
       "                img.type = 'image/png';\n",
       "            }\n",
       "\n",
       "            /* Free the memory for the previous frames */\n",
       "            if (fig.imageObj.src) {\n",
       "                (window.URL || window.webkitURL).revokeObjectURL(\n",
       "                    fig.imageObj.src\n",
       "                );\n",
       "            }\n",
       "\n",
       "            fig.imageObj.src = (window.URL || window.webkitURL).createObjectURL(\n",
       "                img\n",
       "            );\n",
       "            fig.updated_canvas_event();\n",
       "            fig.waiting = false;\n",
       "            return;\n",
       "        } else if (\n",
       "            typeof evt.data === 'string' &&\n",
       "            evt.data.slice(0, 21) === 'data:image/png;base64'\n",
       "        ) {\n",
       "            fig.imageObj.src = evt.data;\n",
       "            fig.updated_canvas_event();\n",
       "            fig.waiting = false;\n",
       "            return;\n",
       "        }\n",
       "\n",
       "        var msg = JSON.parse(evt.data);\n",
       "        var msg_type = msg['type'];\n",
       "\n",
       "        // Call the  \"handle_{type}\" callback, which takes\n",
       "        // the figure and JSON message as its only arguments.\n",
       "        try {\n",
       "            var callback = fig['handle_' + msg_type];\n",
       "        } catch (e) {\n",
       "            console.log(\n",
       "                \"No handler for the '\" + msg_type + \"' message type: \",\n",
       "                msg\n",
       "            );\n",
       "            return;\n",
       "        }\n",
       "\n",
       "        if (callback) {\n",
       "            try {\n",
       "                // console.log(\"Handling '\" + msg_type + \"' message: \", msg);\n",
       "                callback(fig, msg);\n",
       "            } catch (e) {\n",
       "                console.log(\n",
       "                    \"Exception inside the 'handler_\" + msg_type + \"' callback:\",\n",
       "                    e,\n",
       "                    e.stack,\n",
       "                    msg\n",
       "                );\n",
       "            }\n",
       "        }\n",
       "    };\n",
       "};\n",
       "\n",
       "// from http://stackoverflow.com/questions/1114465/getting-mouse-location-in-canvas\n",
       "mpl.findpos = function (e) {\n",
       "    //this section is from http://www.quirksmode.org/js/events_properties.html\n",
       "    var targ;\n",
       "    if (!e) {\n",
       "        e = window.event;\n",
       "    }\n",
       "    if (e.target) {\n",
       "        targ = e.target;\n",
       "    } else if (e.srcElement) {\n",
       "        targ = e.srcElement;\n",
       "    }\n",
       "    if (targ.nodeType === 3) {\n",
       "        // defeat Safari bug\n",
       "        targ = targ.parentNode;\n",
       "    }\n",
       "\n",
       "    // pageX,Y are the mouse positions relative to the document\n",
       "    var boundingRect = targ.getBoundingClientRect();\n",
       "    var x = e.pageX - (boundingRect.left + document.body.scrollLeft);\n",
       "    var y = e.pageY - (boundingRect.top + document.body.scrollTop);\n",
       "\n",
       "    return { x: x, y: y };\n",
       "};\n",
       "\n",
       "/*\n",
       " * return a copy of an object with only non-object keys\n",
       " * we need this to avoid circular references\n",
       " * http://stackoverflow.com/a/24161582/3208463\n",
       " */\n",
       "function simpleKeys(original) {\n",
       "    return Object.keys(original).reduce(function (obj, key) {\n",
       "        if (typeof original[key] !== 'object') {\n",
       "            obj[key] = original[key];\n",
       "        }\n",
       "        return obj;\n",
       "    }, {});\n",
       "}\n",
       "\n",
       "mpl.figure.prototype.mouse_event = function (event, name) {\n",
       "    var canvas_pos = mpl.findpos(event);\n",
       "\n",
       "    if (name === 'button_press') {\n",
       "        this.canvas.focus();\n",
       "        this.canvas_div.focus();\n",
       "    }\n",
       "\n",
       "    var x = canvas_pos.x * this.ratio;\n",
       "    var y = canvas_pos.y * this.ratio;\n",
       "\n",
       "    this.send_message(name, {\n",
       "        x: x,\n",
       "        y: y,\n",
       "        button: event.button,\n",
       "        step: event.step,\n",
       "        guiEvent: simpleKeys(event),\n",
       "    });\n",
       "\n",
       "    /* This prevents the web browser from automatically changing to\n",
       "     * the text insertion cursor when the button is pressed.  We want\n",
       "     * to control all of the cursor setting manually through the\n",
       "     * 'cursor' event from matplotlib */\n",
       "    event.preventDefault();\n",
       "    return false;\n",
       "};\n",
       "\n",
       "mpl.figure.prototype._key_event_extra = function (_event, _name) {\n",
       "    // Handle any extra behaviour associated with a key event\n",
       "};\n",
       "\n",
       "mpl.figure.prototype.key_event = function (event, name) {\n",
       "    // Prevent repeat events\n",
       "    if (name === 'key_press') {\n",
       "        if (event.key === this._key) {\n",
       "            return;\n",
       "        } else {\n",
       "            this._key = event.key;\n",
       "        }\n",
       "    }\n",
       "    if (name === 'key_release') {\n",
       "        this._key = null;\n",
       "    }\n",
       "\n",
       "    var value = '';\n",
       "    if (event.ctrlKey && event.key !== 'Control') {\n",
       "        value += 'ctrl+';\n",
       "    }\n",
       "    else if (event.altKey && event.key !== 'Alt') {\n",
       "        value += 'alt+';\n",
       "    }\n",
       "    else if (event.shiftKey && event.key !== 'Shift') {\n",
       "        value += 'shift+';\n",
       "    }\n",
       "\n",
       "    value += 'k' + event.key;\n",
       "\n",
       "    this._key_event_extra(event, name);\n",
       "\n",
       "    this.send_message(name, { key: value, guiEvent: simpleKeys(event) });\n",
       "    return false;\n",
       "};\n",
       "\n",
       "mpl.figure.prototype.toolbar_button_onclick = function (name) {\n",
       "    if (name === 'download') {\n",
       "        this.handle_save(this, null);\n",
       "    } else {\n",
       "        this.send_message('toolbar_button', { name: name });\n",
       "    }\n",
       "};\n",
       "\n",
       "mpl.figure.prototype.toolbar_button_onmouseover = function (tooltip) {\n",
       "    this.message.textContent = tooltip;\n",
       "};\n",
       "\n",
       "///////////////// REMAINING CONTENT GENERATED BY embed_js.py /////////////////\n",
       "// prettier-ignore\n",
       "var _JSXTOOLS_RESIZE_OBSERVER=function(A){var t,i=new WeakMap,n=new WeakMap,a=new WeakMap,r=new WeakMap,o=new Set;function s(e){if(!(this instanceof s))throw new TypeError(\"Constructor requires 'new' operator\");i.set(this,e)}function h(){throw new TypeError(\"Function is not a constructor\")}function c(e,t,i,n){e=0 in arguments?Number(arguments[0]):0,t=1 in arguments?Number(arguments[1]):0,i=2 in arguments?Number(arguments[2]):0,n=3 in arguments?Number(arguments[3]):0,this.right=(this.x=this.left=e)+(this.width=i),this.bottom=(this.y=this.top=t)+(this.height=n),Object.freeze(this)}function d(){t=requestAnimationFrame(d);var s=new WeakMap,p=new Set;o.forEach((function(t){r.get(t).forEach((function(i){var r=t instanceof window.SVGElement,o=a.get(t),d=r?0:parseFloat(o.paddingTop),f=r?0:parseFloat(o.paddingRight),l=r?0:parseFloat(o.paddingBottom),u=r?0:parseFloat(o.paddingLeft),g=r?0:parseFloat(o.borderTopWidth),m=r?0:parseFloat(o.borderRightWidth),w=r?0:parseFloat(o.borderBottomWidth),b=u+f,F=d+l,v=(r?0:parseFloat(o.borderLeftWidth))+m,W=g+w,y=r?0:t.offsetHeight-W-t.clientHeight,E=r?0:t.offsetWidth-v-t.clientWidth,R=b+v,z=F+W,M=r?t.width:parseFloat(o.width)-R-E,O=r?t.height:parseFloat(o.height)-z-y;if(n.has(t)){var k=n.get(t);if(k[0]===M&&k[1]===O)return}n.set(t,[M,O]);var S=Object.create(h.prototype);S.target=t,S.contentRect=new c(u,d,M,O),s.has(i)||(s.set(i,[]),p.add(i)),s.get(i).push(S)}))})),p.forEach((function(e){i.get(e).call(e,s.get(e),e)}))}return s.prototype.observe=function(i){if(i instanceof window.Element){r.has(i)||(r.set(i,new Set),o.add(i),a.set(i,window.getComputedStyle(i)));var n=r.get(i);n.has(this)||n.add(this),cancelAnimationFrame(t),t=requestAnimationFrame(d)}},s.prototype.unobserve=function(i){if(i instanceof window.Element&&r.has(i)){var n=r.get(i);n.has(this)&&(n.delete(this),n.size||(r.delete(i),o.delete(i))),n.size||r.delete(i),o.size||cancelAnimationFrame(t)}},A.DOMRectReadOnly=c,A.ResizeObserver=s,A.ResizeObserverEntry=h,A}; // eslint-disable-line\n",
       "mpl.toolbar_items = [[\"Home\", \"Reset original view\", \"fa fa-home icon-home\", \"home\"], [\"Back\", \"Back to previous view\", \"fa fa-arrow-left icon-arrow-left\", \"back\"], [\"Forward\", \"Forward to next view\", \"fa fa-arrow-right icon-arrow-right\", \"forward\"], [\"\", \"\", \"\", \"\"], [\"Pan\", \"Left button pans, Right button zooms\\nx/y fixes axis, CTRL fixes aspect\", \"fa fa-arrows icon-move\", \"pan\"], [\"Zoom\", \"Zoom to rectangle\\nx/y fixes axis, CTRL fixes aspect\", \"fa fa-square-o icon-check-empty\", \"zoom\"], [\"\", \"\", \"\", \"\"], [\"Download\", \"Download plot\", \"fa fa-floppy-o icon-save\", \"download\"]];\n",
       "\n",
       "mpl.extensions = [\"eps\", \"jpeg\", \"pgf\", \"pdf\", \"png\", \"ps\", \"raw\", \"svg\", \"tif\"];\n",
       "\n",
       "mpl.default_extension = \"png\";/* global mpl */\n",
       "\n",
       "var comm_websocket_adapter = function (comm) {\n",
       "    // Create a \"websocket\"-like object which calls the given IPython comm\n",
       "    // object with the appropriate methods. Currently this is a non binary\n",
       "    // socket, so there is still some room for performance tuning.\n",
       "    var ws = {};\n",
       "\n",
       "    ws.binaryType = comm.kernel.ws.binaryType;\n",
       "    ws.readyState = comm.kernel.ws.readyState;\n",
       "    function updateReadyState(_event) {\n",
       "        if (comm.kernel.ws) {\n",
       "            ws.readyState = comm.kernel.ws.readyState;\n",
       "        } else {\n",
       "            ws.readyState = 3; // Closed state.\n",
       "        }\n",
       "    }\n",
       "    comm.kernel.ws.addEventListener('open', updateReadyState);\n",
       "    comm.kernel.ws.addEventListener('close', updateReadyState);\n",
       "    comm.kernel.ws.addEventListener('error', updateReadyState);\n",
       "\n",
       "    ws.close = function () {\n",
       "        comm.close();\n",
       "    };\n",
       "    ws.send = function (m) {\n",
       "        //console.log('sending', m);\n",
       "        comm.send(m);\n",
       "    };\n",
       "    // Register the callback with on_msg.\n",
       "    comm.on_msg(function (msg) {\n",
       "        //console.log('receiving', msg['content']['data'], msg);\n",
       "        var data = msg['content']['data'];\n",
       "        if (data['blob'] !== undefined) {\n",
       "            data = {\n",
       "                data: new Blob(msg['buffers'], { type: data['blob'] }),\n",
       "            };\n",
       "        }\n",
       "        // Pass the mpl event to the overridden (by mpl) onmessage function.\n",
       "        ws.onmessage(data);\n",
       "    });\n",
       "    return ws;\n",
       "};\n",
       "\n",
       "mpl.mpl_figure_comm = function (comm, msg) {\n",
       "    // This is the function which gets called when the mpl process\n",
       "    // starts-up an IPython Comm through the \"matplotlib\" channel.\n",
       "\n",
       "    var id = msg.content.data.id;\n",
       "    // Get hold of the div created by the display call when the Comm\n",
       "    // socket was opened in Python.\n",
       "    var element = document.getElementById(id);\n",
       "    var ws_proxy = comm_websocket_adapter(comm);\n",
       "\n",
       "    function ondownload(figure, _format) {\n",
       "        window.open(figure.canvas.toDataURL());\n",
       "    }\n",
       "\n",
       "    var fig = new mpl.figure(id, ws_proxy, ondownload, element);\n",
       "\n",
       "    // Call onopen now - mpl needs it, as it is assuming we've passed it a real\n",
       "    // web socket which is closed, not our websocket->open comm proxy.\n",
       "    ws_proxy.onopen();\n",
       "\n",
       "    fig.parent_element = element;\n",
       "    fig.cell_info = mpl.find_output_cell(\"<div id='\" + id + \"'></div>\");\n",
       "    if (!fig.cell_info) {\n",
       "        console.error('Failed to find cell for figure', id, fig);\n",
       "        return;\n",
       "    }\n",
       "    fig.cell_info[0].output_area.element.on(\n",
       "        'cleared',\n",
       "        { fig: fig },\n",
       "        fig._remove_fig_handler\n",
       "    );\n",
       "};\n",
       "\n",
       "mpl.figure.prototype.handle_close = function (fig, msg) {\n",
       "    var width = fig.canvas.width / fig.ratio;\n",
       "    fig.cell_info[0].output_area.element.off(\n",
       "        'cleared',\n",
       "        fig._remove_fig_handler\n",
       "    );\n",
       "    fig.resizeObserverInstance.unobserve(fig.canvas_div);\n",
       "\n",
       "    // Update the output cell to use the data from the current canvas.\n",
       "    fig.push_to_output();\n",
       "    var dataURL = fig.canvas.toDataURL();\n",
       "    // Re-enable the keyboard manager in IPython - without this line, in FF,\n",
       "    // the notebook keyboard shortcuts fail.\n",
       "    IPython.keyboard_manager.enable();\n",
       "    fig.parent_element.innerHTML =\n",
       "        '<img src=\"' + dataURL + '\" width=\"' + width + '\">';\n",
       "    fig.close_ws(fig, msg);\n",
       "};\n",
       "\n",
       "mpl.figure.prototype.close_ws = function (fig, msg) {\n",
       "    fig.send_message('closing', msg);\n",
       "    // fig.ws.close()\n",
       "};\n",
       "\n",
       "mpl.figure.prototype.push_to_output = function (_remove_interactive) {\n",
       "    // Turn the data on the canvas into data in the output cell.\n",
       "    var width = this.canvas.width / this.ratio;\n",
       "    var dataURL = this.canvas.toDataURL();\n",
       "    this.cell_info[1]['text/html'] =\n",
       "        '<img src=\"' + dataURL + '\" width=\"' + width + '\">';\n",
       "};\n",
       "\n",
       "mpl.figure.prototype.updated_canvas_event = function () {\n",
       "    // Tell IPython that the notebook contents must change.\n",
       "    IPython.notebook.set_dirty(true);\n",
       "    this.send_message('ack', {});\n",
       "    var fig = this;\n",
       "    // Wait a second, then push the new image to the DOM so\n",
       "    // that it is saved nicely (might be nice to debounce this).\n",
       "    setTimeout(function () {\n",
       "        fig.push_to_output();\n",
       "    }, 1000);\n",
       "};\n",
       "\n",
       "mpl.figure.prototype._init_toolbar = function () {\n",
       "    var fig = this;\n",
       "\n",
       "    var toolbar = document.createElement('div');\n",
       "    toolbar.classList = 'btn-toolbar';\n",
       "    this.root.appendChild(toolbar);\n",
       "\n",
       "    function on_click_closure(name) {\n",
       "        return function (_event) {\n",
       "            return fig.toolbar_button_onclick(name);\n",
       "        };\n",
       "    }\n",
       "\n",
       "    function on_mouseover_closure(tooltip) {\n",
       "        return function (event) {\n",
       "            if (!event.currentTarget.disabled) {\n",
       "                return fig.toolbar_button_onmouseover(tooltip);\n",
       "            }\n",
       "        };\n",
       "    }\n",
       "\n",
       "    fig.buttons = {};\n",
       "    var buttonGroup = document.createElement('div');\n",
       "    buttonGroup.classList = 'btn-group';\n",
       "    var button;\n",
       "    for (var toolbar_ind in mpl.toolbar_items) {\n",
       "        var name = mpl.toolbar_items[toolbar_ind][0];\n",
       "        var tooltip = mpl.toolbar_items[toolbar_ind][1];\n",
       "        var image = mpl.toolbar_items[toolbar_ind][2];\n",
       "        var method_name = mpl.toolbar_items[toolbar_ind][3];\n",
       "\n",
       "        if (!name) {\n",
       "            /* Instead of a spacer, we start a new button group. */\n",
       "            if (buttonGroup.hasChildNodes()) {\n",
       "                toolbar.appendChild(buttonGroup);\n",
       "            }\n",
       "            buttonGroup = document.createElement('div');\n",
       "            buttonGroup.classList = 'btn-group';\n",
       "            continue;\n",
       "        }\n",
       "\n",
       "        button = fig.buttons[name] = document.createElement('button');\n",
       "        button.classList = 'btn btn-default';\n",
       "        button.href = '#';\n",
       "        button.title = name;\n",
       "        button.innerHTML = '<i class=\"fa ' + image + ' fa-lg\"></i>';\n",
       "        button.addEventListener('click', on_click_closure(method_name));\n",
       "        button.addEventListener('mouseover', on_mouseover_closure(tooltip));\n",
       "        buttonGroup.appendChild(button);\n",
       "    }\n",
       "\n",
       "    if (buttonGroup.hasChildNodes()) {\n",
       "        toolbar.appendChild(buttonGroup);\n",
       "    }\n",
       "\n",
       "    // Add the status bar.\n",
       "    var status_bar = document.createElement('span');\n",
       "    status_bar.classList = 'mpl-message pull-right';\n",
       "    toolbar.appendChild(status_bar);\n",
       "    this.message = status_bar;\n",
       "\n",
       "    // Add the close button to the window.\n",
       "    var buttongrp = document.createElement('div');\n",
       "    buttongrp.classList = 'btn-group inline pull-right';\n",
       "    button = document.createElement('button');\n",
       "    button.classList = 'btn btn-mini btn-primary';\n",
       "    button.href = '#';\n",
       "    button.title = 'Stop Interaction';\n",
       "    button.innerHTML = '<i class=\"fa fa-power-off icon-remove icon-large\"></i>';\n",
       "    button.addEventListener('click', function (_evt) {\n",
       "        fig.handle_close(fig, {});\n",
       "    });\n",
       "    button.addEventListener(\n",
       "        'mouseover',\n",
       "        on_mouseover_closure('Stop Interaction')\n",
       "    );\n",
       "    buttongrp.appendChild(button);\n",
       "    var titlebar = this.root.querySelector('.ui-dialog-titlebar');\n",
       "    titlebar.insertBefore(buttongrp, titlebar.firstChild);\n",
       "};\n",
       "\n",
       "mpl.figure.prototype._remove_fig_handler = function (event) {\n",
       "    var fig = event.data.fig;\n",
       "    if (event.target !== this) {\n",
       "        // Ignore bubbled events from children.\n",
       "        return;\n",
       "    }\n",
       "    fig.close_ws(fig, {});\n",
       "};\n",
       "\n",
       "mpl.figure.prototype._root_extra_style = function (el) {\n",
       "    el.style.boxSizing = 'content-box'; // override notebook setting of border-box.\n",
       "};\n",
       "\n",
       "mpl.figure.prototype._canvas_extra_style = function (el) {\n",
       "    // this is important to make the div 'focusable\n",
       "    el.setAttribute('tabindex', 0);\n",
       "    // reach out to IPython and tell the keyboard manager to turn it's self\n",
       "    // off when our div gets focus\n",
       "\n",
       "    // location in version 3\n",
       "    if (IPython.notebook.keyboard_manager) {\n",
       "        IPython.notebook.keyboard_manager.register_events(el);\n",
       "    } else {\n",
       "        // location in version 2\n",
       "        IPython.keyboard_manager.register_events(el);\n",
       "    }\n",
       "};\n",
       "\n",
       "mpl.figure.prototype._key_event_extra = function (event, _name) {\n",
       "    var manager = IPython.notebook.keyboard_manager;\n",
       "    if (!manager) {\n",
       "        manager = IPython.keyboard_manager;\n",
       "    }\n",
       "\n",
       "    // Check for shift+enter\n",
       "    if (event.shiftKey && event.which === 13) {\n",
       "        this.canvas_div.blur();\n",
       "        // select the cell after this one\n",
       "        var index = IPython.notebook.find_cell_index(this.cell_info[0]);\n",
       "        IPython.notebook.select(index + 1);\n",
       "    }\n",
       "};\n",
       "\n",
       "mpl.figure.prototype.handle_save = function (fig, _msg) {\n",
       "    fig.ondownload(fig, null);\n",
       "};\n",
       "\n",
       "mpl.find_output_cell = function (html_output) {\n",
       "    // Return the cell and output element which can be found *uniquely* in the notebook.\n",
       "    // Note - this is a bit hacky, but it is done because the \"notebook_saving.Notebook\"\n",
       "    // IPython event is triggered only after the cells have been serialised, which for\n",
       "    // our purposes (turning an active figure into a static one), is too late.\n",
       "    var cells = IPython.notebook.get_cells();\n",
       "    var ncells = cells.length;\n",
       "    for (var i = 0; i < ncells; i++) {\n",
       "        var cell = cells[i];\n",
       "        if (cell.cell_type === 'code') {\n",
       "            for (var j = 0; j < cell.output_area.outputs.length; j++) {\n",
       "                var data = cell.output_area.outputs[j];\n",
       "                if (data.data) {\n",
       "                    // IPython >= 3 moved mimebundle to data attribute of output\n",
       "                    data = data.data;\n",
       "                }\n",
       "                if (data['text/html'] === html_output) {\n",
       "                    return [cell, data, j];\n",
       "                }\n",
       "            }\n",
       "        }\n",
       "    }\n",
       "};\n",
       "\n",
       "// Register the function which deals with the matplotlib target/channel.\n",
       "// The kernel may be null if the page has been refreshed.\n",
       "if (IPython.notebook.kernel !== null) {\n",
       "    IPython.notebook.kernel.comm_manager.register_target(\n",
       "        'matplotlib',\n",
       "        mpl.mpl_figure_comm\n",
       "    );\n",
       "}\n"
      ],
      "text/plain": [
       "<IPython.core.display.Javascript object>"
      ]
     },
     "metadata": {},
     "output_type": "display_data"
    },
    {
     "data": {
      "text/html": [
       "<img src=\"data:image/png;base64,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\" width=\"640\">"
      ],
      "text/plain": [
       "<IPython.core.display.HTML object>"
      ]
     },
     "metadata": {},
     "output_type": "display_data"
    }
   ],
   "source": [
    "%matplotlib notebook\n",
    "import matplotlib.pyplot as plt\n",
    "from matplotlib.animation import FuncAnimation\n",
    "FRAME_SKIP = 3\n",
    "i = 0\n",
    "result = results[0]\n",
    "_, trajectories = result.get()\n",
    "trajectory = trajectories[0]\n",
    "fig = bar_frame.gen_fig()\n",
    "ax = plt.gca()\n",
    "\n",
    "#fig, ax = plt.subplots()\n",
    "line, = ax.plot([], [], 'bo')\n",
    "ax.set_xlim(-1, 1)\n",
    "ax.set_ylim(-6, 6)\n",
    "ns, xs, ys, state, edge = zip(*trajectory)\n",
    "ax.set_aspect('equal')\n",
    "\n",
    "ns, xs, ys, state, edge = zip(*trajectory)\n",
    "def animate(frame_num):\n",
    "    line.set_data((xs[frame_num*FRAME_SKIP], ys[frame_num*FRAME_SKIP]))\n",
    "    return line\n",
    "anim = FuncAnimation(fig, animate, frames=int(len(xs)/FRAME_SKIP), interval=3)\n",
    "plt.show()\n"
   ]
  },
  {
   "cell_type": "markdown",
   "metadata": {},
   "source": [
    "# Ohmic LInes"
   ]
  },
  {
   "cell_type": "markdown",
   "metadata": {},
   "source": [
    "Sometimes it is useful to monitor when electrons cross a specific line that is not apart of the geometry that we want them to interact with. We will call these ohmic lines and they can be added to the simulation. To do this, we will pass in a list of lines (where each line is a list of two ordered (x,y) pairs defining the line) to the simulation init. The number of carriers that cross this line are then returned by run_simulation (where each line is listed as its own independent layer)."
   ]
  },
  {
   "cell_type": "code",
   "execution_count": 16,
   "metadata": {
    "ExecuteTime": {
     "end_time": "2020-08-18T00:14:30.520091Z",
     "start_time": "2020-08-18T00:14:18.882688Z"
    }
   },
   "outputs": [
    {
     "name": "stdout",
     "output_type": "stream",
     "text": [
      "10.0 T: [12387, 5589, 16896, 31192, 4994, 7317, 4151, 9212, 4536, 10621]\n",
      "10.7 T: [12759, 23183, 40706, 12485, 26762, 4435, 28784, 23003, 9617, 14041]\n",
      "11.4 T: [5093, 14136, 5042, 10154, 5377, 5518, 5791, 5539, 15954, 5146]\n",
      "12.1 T: [5314, 6154, 5193, 7369, 5564, 7469, 6363, 6329, 5043, 7087]\n",
      "12.9 T: [5801, 6328, 6443, 6032, 5702, 5801, 6127, 7163, 5441, 7135]\n",
      "13.6 T: [6558, 6201, 6761, 6439, 6431, 7997, 7004, 6587, 8107, 7778]\n",
      "14.3 T: [7095, 7304, 6890, 6956, 6411, 7054, 7851, 7744, 8224, 6950]\n",
      "15.0 T: [7335, 7732, 8330, 7573, 8560, 8085, 6808, 8233, 8107, 6546]\n",
      "Completed in 156.2 s\n"
     ]
    }
   ],
   "source": [
    "# [[(x0, y0), (x1, y1)], [(x2, y2), (x3, y3)], ... \n",
    "lines = [[(-1, 0), (1,0)], [(-1, 1), (1, 1)]]\n",
    "ohmic_lines = caustic_frame.OhmicLines(lines)\n",
    "\n",
    "\n",
    "start = time.time()\n",
    "results = []\n",
    "np.random.seed(42)\n",
    "with multiprocessing.Pool(maxtasksperchild=1) as p:\n",
    "    for field in fields:\n",
    "        bar_sim = mcs.Simulation(bar_frame, k, 0, field, ohmic_lines=ohmic_lines)\n",
    "        results.append(p.apply_async(bar_sim.run_simulation, [n_inject]))\n",
    "    p.close()\n",
    "    p.join()\n",
    "for r, field in zip(results, fields):\n",
    "    print(f'{field:.1f} T: {list(map(len, r.get()[1]))}')\n",
    "print(f'Completed in {time.time() - start:.1f} s')"
   ]
  },
  {
   "cell_type": "markdown",
   "metadata": {},
   "source": [
    "We can print out the results. We see that the results are not affected by the addition of the ohmic lines, as the carriers do not physically interact with the lines."
   ]
  },
  {
   "cell_type": "code",
   "execution_count": 17,
   "metadata": {
    "ExecuteTime": {
     "end_time": "2020-08-18T00:14:30.528842Z",
     "start_time": "2020-08-18T00:14:30.522123Z"
    }
   },
   "outputs": [
    {
     "name": "stdout",
     "output_type": "stream",
     "text": [
      "10.0 T: [10, 0, 82, 1, 20, 3, 173, 0, 24, 24]\n",
      "10.7 T: [10, 0, 171, 5, 23, 2, 273, 0, 56, 50]\n",
      "11.4 T: [10, 0, 25, 0, 7, 1, 131, 0, 18, 18]\n",
      "12.1 T: [10, 0, 0, 0, 7, 1, 116, 0, 10, 16]\n",
      "12.9 T: [9, 0, 0, 1, 3, 1, 121, 1, 14, 14]\n",
      "13.6 T: [10, 0, 1, 0, 8, 1, 129, 0, 14, 16]\n",
      "14.3 T: [10, 0, 0, 0, 12, 1, 138, 0, 14, 14]\n",
      "15.0 T: [10, 0, 0, 1, 9, 4, 150, 0, 14, 10]\n"
     ]
    }
   ],
   "source": [
    "for r, field in zip(results, fields):\n",
    "    print(f'{field:.1f} T: {list(r.get()[0].values())}')"
   ]
  },
  {
   "cell_type": "code",
   "execution_count": 18,
   "metadata": {
    "ExecuteTime": {
     "end_time": "2020-08-18T00:14:30.538215Z",
     "start_time": "2020-08-18T00:14:30.530185Z"
    },
    "scrolled": true
   },
   "outputs": [
    {
     "data": {
      "text/plain": [
       "{2: array([10., 10., 10., 10., 10., 10., 10., 10.]),\n",
       " 0: array([255., 444., 156., 116., 121., 130., 138., 150.]),\n",
       " 1: array([24., 30.,  8.,  8.,  5.,  9., 13., 14.]),\n",
       " 3: array([24., 56., 18., 10., 14., 14., 14., 14.]),\n",
       " 4: array([24., 50., 18., 16., 14., 16., 14., 10.])}"
      ]
     },
     "execution_count": 18,
     "metadata": {},
     "output_type": "execute_result"
    }
   ],
   "source": [
    "ohmstats = mcs.calc_ohmstats(fields, results)\n",
    "ohmstats"
   ]
  },
  {
   "cell_type": "markdown",
   "metadata": {},
   "source": [
    "The lines are moved to layers higher than the geometry of the frame. The layers of each line can be checked:"
   ]
  },
  {
   "cell_type": "code",
   "execution_count": 19,
   "metadata": {
    "ExecuteTime": {
     "end_time": "2020-08-18T00:14:30.550225Z",
     "start_time": "2020-08-18T00:14:30.539762Z"
    }
   },
   "outputs": [
    {
     "data": {
      "text/plain": [
       "[((-1, 0), (1, 0), 3), ((-1, 1), (1, 1), 4)]"
      ]
     },
     "execution_count": 19,
     "metadata": {},
     "output_type": "execute_result"
    }
   ],
   "source": [
    "bar_sim._ohmic_lines.lines_as_edges"
   ]
  },
  {
   "cell_type": "raw",
   "metadata": {},
   "source": []
  }
 ],
 "metadata": {
  "kernelspec": {
   "display_name": "Python 3 (ipykernel)",
   "language": "python",
   "name": "python3"
  },
  "language_info": {
   "codemirror_mode": {
    "name": "ipython",
    "version": 3
   },
   "file_extension": ".py",
   "mimetype": "text/x-python",
   "name": "python",
   "nbconvert_exporter": "python",
   "pygments_lexer": "ipython3",
   "version": "3.7.10"
  },
  "toc": {
   "base_numbering": 1,
   "nav_menu": {
    "height": "216.233px",
    "width": "252px"
   },
   "number_sections": true,
   "sideBar": true,
   "skip_h1_title": false,
   "title_cell": "Table of Contents",
   "title_sidebar": "Contents",
   "toc_cell": true,
   "toc_position": {},
   "toc_section_display": "block",
   "toc_window_display": true
  }
 },
 "nbformat": 4,
 "nbformat_minor": 2
}
