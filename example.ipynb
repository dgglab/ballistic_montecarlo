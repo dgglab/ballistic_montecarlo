{
 "cells": [
  {
   "cell_type": "markdown",
   "metadata": {
    "toc": "true"
   },
   "source": [
    "<h1>Table of Contents<span class=\"tocSkip\"></span></h1>\n",
    "<div class=\"toc\"><ul class=\"toc-item\"><li><span><a href=\"#Init\" data-toc-modified-id=\"Init-1\"><span class=\"toc-item-num\">1&nbsp;&nbsp;</span>Init</a></span></li><li><span><a href=\"#Ballistic-Monte-Carlo\" data-toc-modified-id=\"Ballistic-Monte-Carlo-2\"><span class=\"toc-item-num\">2&nbsp;&nbsp;</span>Ballistic Monte Carlo</a></span></li><li><span><a href=\"#Features-to-be-implemented\" data-toc-modified-id=\"Features-to-be-implemented-3\"><span class=\"toc-item-num\">3&nbsp;&nbsp;</span>Features to be implemented</a></span></li><li><span><a href=\"#Generate-frame\" data-toc-modified-id=\"Generate-frame-4\"><span class=\"toc-item-num\">4&nbsp;&nbsp;</span>Generate frame</a></span></li><li><span><a href=\"#Bandstructure\" data-toc-modified-id=\"Bandstructure-5\"><span class=\"toc-item-num\">5&nbsp;&nbsp;</span>Bandstructure</a></span></li><li><span><a href=\"#Simulation\" data-toc-modified-id=\"Simulation-6\"><span class=\"toc-item-num\">6&nbsp;&nbsp;</span>Simulation</a></span><ul class=\"toc-item\"><li><span><a href=\"#Serial\" data-toc-modified-id=\"Serial-6.1\"><span class=\"toc-item-num\">6.1&nbsp;&nbsp;</span>Serial</a></span></li><li><span><a href=\"#Parallel\" data-toc-modified-id=\"Parallel-6.2\"><span class=\"toc-item-num\">6.2&nbsp;&nbsp;</span>Parallel</a></span></li></ul></li><li><span><a href=\"#The-returned-data\" data-toc-modified-id=\"The-returned-data-7\"><span class=\"toc-item-num\">7&nbsp;&nbsp;</span>The returned data</a></span><ul class=\"toc-item\"><li><span><a href=\"#edge_to_count\" data-toc-modified-id=\"edge_to_count-7.1\"><span class=\"toc-item-num\">7.1&nbsp;&nbsp;</span>edge_to_count</a></span></li><li><span><a href=\"#Trajectories\" data-toc-modified-id=\"Trajectories-7.2\"><span class=\"toc-item-num\">7.2&nbsp;&nbsp;</span>Trajectories</a></span></li></ul></li><li><span><a href=\"#Ohmic-LInes\" data-toc-modified-id=\"Ohmic-LInes-8\"><span class=\"toc-item-num\">8&nbsp;&nbsp;</span>Ohmic LInes</a></span></li></ul></div>"
   ]
  },
  {
   "cell_type": "markdown",
   "metadata": {},
   "source": [
    "# Init"
   ]
  },
  {
   "cell_type": "code",
   "execution_count": 1,
   "metadata": {
    "ExecuteTime": {
     "end_time": "2020-08-18T00:00:13.583461Z",
     "start_time": "2020-08-18T00:00:13.195512Z"
    }
   },
   "outputs": [],
   "source": [
    "import time\n",
    "import multiprocessing\n",
    "import numpy as np\n",
    "import matplotlib.pyplot as plt\n",
    "from cycler import cycler\n",
    "\n",
    "import geo.caustic_frame as caustic_frame\n",
    "import monte_carlo_simulation as mcs\n",
    "from bandstructure.delafossite_bandstructure import delafossite\n",
    "\n",
    "# Set default plotting parameters\n",
    "plt.rcParams['axes.prop_cycle'] = cycler(\n",
    "    color=['#E24A33','#348ABD','#988ED5','#777777',\n",
    "           '#FBC15E','#8EBA42','#FFB5B8'])\n",
    "\n",
    "plt.rcParams['axes.linewidth'] = 1\n",
    "plt.rcParams['xtick.direction'] = 'in'\n",
    "plt.rcParams['xtick.top'] = 'True'\n",
    "plt.rcParams['xtick.major.size'] = 5\n",
    "plt.rcParams['xtick.major.width'] = 1\n",
    "\n",
    "plt.rcParams['ytick.direction'] = 'in'\n",
    "plt.rcParams['ytick.right'] = 'True'\n",
    "plt.rcParams['ytick.major.size'] = 5\n",
    "plt.rcParams['ytick.major.width'] = 1\n",
    "\n",
    "plt.rcParams['lines.linewidth'] = 1.5\n",
    "plt.rcParams['font.size'] = 12\n",
    "plt.rcParams['axes.labelsize']=12"
   ]
  },
  {
   "cell_type": "markdown",
   "metadata": {},
   "source": [
    "# Ballistic Monte Carlo"
   ]
  },
  {
   "cell_type": "markdown",
   "metadata": {},
   "source": [
    "In ultra-clean 2D materials, transport is ballistic over large length scales at sufficiently low temperatures. This simulation platform aims to  semi-classically model ballistic transport for a generic Fermi surface in a given 2D geometry. By modeling the ballistic trajectories in field, on can gain an effective map of the current density within the device. Additionally, by monitoring the interactions of the charge carriers with the edges of the device, one can gain qaulitative predictions for the field-dependence of the voltage at a given ohmic contact."
   ]
  },
  {
   "cell_type": "markdown",
   "metadata": {},
   "source": [
    "# Features to be implemented"
   ]
  },
  {
   "cell_type": "markdown",
   "metadata": {},
   "source": [
    "- Specular reflection\n",
    "\n",
    "\n",
    "- Ability to selectively save trajectory information\n",
    "\n",
    "\n",
    "- Post processing of data\n",
    "    - Capability to calculate flux for a given line\n",
    "    - Generating color maps of electron density"
   ]
  },
  {
   "cell_type": "markdown",
   "metadata": {},
   "source": [
    "# Generate frame"
   ]
  },
  {
   "cell_type": "markdown",
   "metadata": {},
   "source": [
    "The Frame class represents the geometry we would like to simulate. To generate a frame load in a dxf file.\n",
    "\n",
    "When generating a caustic frame, all layers are collapsed down onto layer 0 to generate a single polygon. Layer 0 will function as a regular edge of the given material while higher layers will function as ohmic contacts. Any line segment of layer 0 that is totally encompased in a higher layer polygon is now labeled by the higher layer. A line segment of layer 0 that  intersects with a higher layer polygon is divided to a portion inside and outside of the higher layer polygon. The portion outside remains labeled by layer 0 while the portion inside aquires the layer of the polygon. \n",
    "\n",
    "Each layer functions as a single ohmic contact (or multiple contacts that are shorted together in the case of disjoin polygons). An injecting contact (layer 1) and a grounded contact (layer 2) are required. All highe layers will be considered as floating contacts.\n",
    "\n",
    "See the figures below for an example dxf which is then collapsed down into a Frame.\n",
    "\n",
    "\n",
    "Required layers: \n",
    "- 0: Body of device, must be a single polygon\n",
    "- 1: Injecting contact(s)\n",
    "- 2: Grounded contacts(s)\n",
    "\n",
    "Optional layers:\n",
    "- 3-n: floating contacts, grouped by layer"
   ]
  },
  {
   "cell_type": "code",
   "execution_count": 2,
   "metadata": {
    "ExecuteTime": {
     "end_time": "2020-08-18T00:00:13.886769Z",
     "start_time": "2020-08-18T00:00:13.585166Z"
    },
    "scrolled": false
   },
   "outputs": [
    {
     "data": {
      "image/png": "[encoded data removed]",
      "text/plain": [
       "<Figure size 432x288 with 1 Axes>"
      ]
     },
     "metadata": {
      "needs_background": "light"
     },
     "output_type": "display_data"
    },
    {
     "data": {
      "image/png": "[encoded data removed]",
      "text/plain": [
       "<Figure size 432x288 with 1 Axes>"
      ]
     },
     "metadata": {
      "needs_background": "light"
     },
     "output_type": "display_data"
    }
   ],
   "source": [
    "frame = caustic_frame.Frame('geo/bar.dxf')\n",
    "\n",
    "# Original DXF\n",
    "fig, ax = plt.subplots()\n",
    "colors = ['k', 'C0', 'C1']\n",
    "for i, layer in enumerate(frame.ps.keys()):\n",
    "    x,y = zip(*frame.ps[layer][0])\n",
    "    plt.plot(x,y, color=colors[i])\n",
    "plt.xlabel(r'x position ($\\mathrm{\\mu m}$)')\n",
    "plt.ylabel(r'y position ($\\mathrm{\\mu m}$)')\n",
    "plt.xlim(-1, 1)\n",
    "plt.ylim(-6, 6)\n",
    "ax.set_aspect('equal')\n",
    "\n",
    "# Caustic frame\n",
    "frame.gen_fig();\n",
    "plt.xlabel(r'x position ($\\mathrm{\\mu m}$)')\n",
    "plt.ylabel(r'y position ($\\mathrm{\\mu m}$)')\n",
    "plt.xlim(-1, 1)\n",
    "plt.ylim(-6, 6)\n",
    "ax = plt.gca()\n",
    "ax.set_aspect('equal')"
   ]
  },
  {
   "cell_type": "markdown",
   "metadata": {},
   "source": [
    "The frame consists of a collection of edges (a helper class where we easily store information about a given edge, such as its vertices, layer, and injection probability distribution). We will come back to this once we load in the bandstructure"
   ]
  },
  {
   "cell_type": "code",
   "execution_count": 3,
   "metadata": {
    "ExecuteTime": {
     "end_time": "2020-08-18T00:00:13.891783Z",
     "start_time": "2020-08-18T00:00:13.888180Z"
    }
   },
   "outputs": [
    {
     "data": {
      "text/plain": [
       "{'0': [[(-0.5, 5.0), (0.5, 5.0), (0.5, -5.0), (-0.5, -5.0), (-0.5, 5.0)]],\n",
       " '1': [[(-0.6, -4.9), (0.6, -4.9), (0.6, -5.1), (-0.6, -5.1), (-0.6, -4.9)]],\n",
       " '2': [[(-0.6, 5.1), (0.6, 5.1), (0.6, 4.9), (-0.6, 4.9), (-0.6, 5.1)]]}"
      ]
     },
     "execution_count": 3,
     "metadata": {},
     "output_type": "execute_result"
    }
   ],
   "source": [
    "frame.ps"
   ]
  },
  {
   "cell_type": "code",
   "execution_count": 4,
   "metadata": {
    "ExecuteTime": {
     "end_time": "2020-08-18T00:00:13.900758Z",
     "start_time": "2020-08-18T00:00:13.893267Z"
    }
   },
   "outputs": [
    {
     "data": {
      "text/plain": [
       "[((-0.5, 5.0), (0.5, 5.0), 2),\n",
       " ((0.5, 5.0), (0.5, 4.9), 2),\n",
       " ((0.5, 4.9), (0.5, -4.9), 0),\n",
       " ((0.5, -4.9), (0.5, -5.0), 1),\n",
       " ((0.5, -5.0), (-0.5, -5.0), 1),\n",
       " ((-0.5, -5.0), (-0.5, -4.9), 1),\n",
       " ((-0.5, -4.9), (-0.5, 4.9), 0),\n",
       " ((-0.5, 4.9), (-0.5, 5.0), 2)]"
      ]
     },
     "execution_count": 4,
     "metadata": {},
     "output_type": "execute_result"
    }
   ],
   "source": [
    "frame.edges"
   ]
  },
  {
   "cell_type": "markdown",
   "metadata": {},
   "source": [
    "# Bandstructure"
   ]
  },
  {
   "cell_type": "markdown",
   "metadata": {},
   "source": [
    "Next, we call the delafossite function, which returns a list of of arrays [kx, ky] to represent the Fermi surface. PdCoO2 experimentally has been show to have a nearly constant Fermi velocity across its Fermi surface, so I interpolate the points on the Fermi surface to be separated by constant arc length. If this is not the case for your material, the points should be separated by a distance proportional to the local Fermi velocity."
   ]
  },
  {
   "cell_type": "code",
   "execution_count": 5,
   "metadata": {
    "ExecuteTime": {
     "end_time": "2020-08-18T00:00:14.077348Z",
     "start_time": "2020-08-18T00:00:13.902066Z"
    }
   },
   "outputs": [
    {
     "data": {
      "image/png": "[encoded data removed]",
      "text/plain": [
       "<Figure size 432x288 with 1 Axes>"
      ]
     },
     "metadata": {
      "needs_background": "light"
     },
     "output_type": "display_data"
    }
   ],
   "source": [
    "k = delafossite()\n",
    "\n",
    "fig, ax = plt.subplots()\n",
    "plt.plot(k[0], k[1])\n",
    "plt.xlabel(r'$k_x\\ (\\mathrm{\\AA^{-1}})$')\n",
    "plt.ylabel(r'$k_y\\ (\\mathrm{\\AA^{-1}})$')\n",
    "ax.set_aspect('equal')"
   ]
  },
  {
   "cell_type": "markdown",
   "metadata": {},
   "source": [
    "# Simulation"
   ]
  },
  {
   "cell_type": "markdown",
   "metadata": {},
   "source": [
    "Our simulation is run through Simulation, which takes in our Frame and list of wavevectors. It also takes in: \n",
    "\n",
    "- phi: angle of rotation of device relative to crystal axis\n",
    "- field: Magnetic field to simulate\n",
    "\n",
    "Based on the Fermi surface and given field, the real space trajectories of the charge carriers will be calculated. It turns out that this will be a 90 degree rotation of the Fermi surface scaled by a factor of 1/field. The handedness of these real space trajectories depends on the sign of the field."
   ]
  },
  {
   "cell_type": "code",
   "execution_count": 6,
   "metadata": {
    "ExecuteTime": {
     "end_time": "2020-08-18T00:00:14.199412Z",
     "start_time": "2020-08-18T00:00:14.078498Z"
    }
   },
   "outputs": [
    {
     "data": {
      "image/png": "[encoded data removed]",
      "text/plain": [
       "<Figure size 432x288 with 1 Axes>"
      ]
     },
     "metadata": {
      "needs_background": "light"
     },
     "output_type": "display_data"
    }
   ],
   "source": [
    "phi = 0\n",
    "field = 10\n",
    "sim = mcs.Simulation(frame, k, phi, field)\n",
    "\n",
    "fig, ax = plt.subplots()\n",
    "if np.sign(field) == 1:\n",
    "    plt.plot([-0.02], [0], marker=r'$\\circlearrowleft$', ms=50, color='k')\n",
    "else:\n",
    "    plt.plot([-0.02], [0], marker=r'$\\circlearrowright$', ms=50, color='k')\n",
    "plt.plot(sim._bandstructure.r[0], sim._bandstructure.r[1])\n",
    "plt.xlabel(r'$r_x\\ (\\mathrm{\\mu m})$')\n",
    "plt.ylabel(r'$r_y\\ (\\mathrm{\\mu m})$')\n",
    "ax.set_aspect('equal')"
   ]
  },
  {
   "cell_type": "markdown",
   "metadata": {},
   "source": [
    "Simulation stores information on how electrons should be injected into the device. However, the probability distribution for which state electrons should be injected into depends on the normal direction of the edge (where we take the normal to point into the device). \n",
    "\n",
    "\n",
    "We can plot the probability distribution for a given edge in both reciprocal and real space (blue [red] corresponds to zero [high] probability of injection). The drawn black line corresponds to the normal vector for this edge. We can see that there is a non-zero probability only for injection into states where the charge carrier will propigate in the direction of the normal."
   ]
  },
  {
   "cell_type": "code",
   "execution_count": 7,
   "metadata": {
    "ExecuteTime": {
     "end_time": "2020-08-18T00:00:14.535078Z",
     "start_time": "2020-08-18T00:00:14.200833Z"
    },
    "scrolled": false
   },
   "outputs": [
    {
     "data": {
      "image/png": "[encoded data removed]",
      "text/plain": [
       "<Figure size 432x288 with 1 Axes>"
      ]
     },
     "metadata": {
      "needs_background": "light"
     },
     "output_type": "display_data"
    },
    {
     "data": {
      "image/png": "[encoded data removed]",
      "text/plain": [
       "<Figure size 432x288 with 1 Axes>"
      ]
     },
     "metadata": {
      "needs_background": "light"
     },
     "output_type": "display_data"
    }
   ],
   "source": [
    "cmap = plt.get_cmap('Spectral_r')\n",
    "    \n",
    "edge = sim._frame.edges[0]\n",
    "max_p = np.max(edge.in_prob)\n",
    "colors = np.array([cmap(p/max_p) for p in edge.in_prob])\n",
    "colors = np.append(colors, [colors[0]], axis=0)\n",
    "\n",
    "# Fermi surface\n",
    "fig, ax = plt.subplots()\n",
    "plt.plot((0, (np.max(sim._bandstructure.k[0]*np.cos(edge.normal_angle)))*np.cos(edge.normal_angle)), \n",
    "         (0, (np.max(sim._bandstructure.k[1]*np.sin(edge.normal_angle)))*np.sin(edge.normal_angle)),'k')\n",
    "plt.scatter(sim._bandstructure.k[0], sim._bandstructure.k[1],c=colors)\n",
    "plt.xlabel(r'$k_x\\ (\\mathrm{\\AA^{-1}})$')\n",
    "plt.ylabel(r'$k_y\\ (\\mathrm{\\AA^{-1}})$')\n",
    "ax.set_aspect('equal')\n",
    "\n",
    "# Real space trajectory\n",
    "fig, ax = plt.subplots()\n",
    "if np.sign(field) == 1:\n",
    "    plt.plot([-0.02], [0], marker=r'$\\circlearrowleft$', ms=50, color='k')\n",
    "else:\n",
    "    plt.plot([-0.02], [0], marker=r'$\\circlearrowright$', ms=50, color='k')\n",
    "plt.plot((0, (np.max(sim._bandstructure.r[0]*np.cos(edge.normal_angle)))*np.cos(edge.normal_angle)), \n",
    "         (0, (np.max(sim._bandstructure.r[1]*np.sin(edge.normal_angle)))*np.sin(edge.normal_angle)),'k')\n",
    "plt.scatter(sim._bandstructure.r[0], sim._bandstructure.r[1],c=colors)\n",
    "plt.xlabel(r'$r_x\\ (\\mathrm{\\mu m})$')\n",
    "plt.ylabel(r'$r_y\\ (\\mathrm{\\mu m})$')\n",
    "ax.set_aspect('equal')"
   ]
  },
  {
   "cell_type": "markdown",
   "metadata": {},
   "source": [
    "## Serial"
   ]
  },
  {
   "cell_type": "markdown",
   "metadata": {},
   "source": [
    "We are now ready to run the simulation. The simulation can be run in serial. Here we explicitly set the seed before each run of the simulation so that we can repeate the results."
   ]
  },
  {
   "cell_type": "code",
   "execution_count": 8,
   "metadata": {
    "ExecuteTime": {
     "end_time": "2020-08-18T00:00:44.022259Z",
     "start_time": "2020-08-18T00:00:14.538960Z"
    }
   },
   "outputs": [
    {
     "name": "stderr",
     "output_type": "stream",
     "text": [
      "/mnt/m/Users/Aaron/Dropbox (DGG Lab)/Aaron/Repositories/ballistic_montecarlo/monte_carlo_simulation.py:376: RuntimeWarning: divide by zero encountered in true_divide\n",
      "  ts = (x02*y23 - y02*x23) / (x01*y23 - y01*x23)\n",
      "/mnt/m/Users/Aaron/Dropbox (DGG Lab)/Aaron/Repositories/ballistic_montecarlo/monte_carlo_simulation.py:377: RuntimeWarning: divide by zero encountered in true_divide\n",
      "  us = -(x01*y02 - y01*x02) / (x01*y23 - y01*x23)\n"
     ]
    },
    {
     "name": "stdout",
     "output_type": "stream",
     "text": [
      "10.0 T: [12387, 5589, 16896, 31192, 4994, 7317, 4151, 9212, 4536, 10621]\n",
      "10.7 T: [12759, 23183, 40706, 12485, 26762, 4435, 28784, 23003, 9617, 14041]\n",
      "11.4 T: [5093, 14136, 5042, 10154, 5377, 5518, 5791, 5539, 15954, 5146]\n",
      "12.1 T: [5314, 6154, 5193, 7369, 5564, 7469, 6363, 6329, 5043, 7087]\n",
      "12.9 T: [5801, 6328, 6443, 6032, 5702, 5801, 6127, 7163, 5441, 7135]\n",
      "13.6 T: [6558, 6201, 6761, 6439, 6431, 7997, 7004, 6587, 8107, 7778]\n",
      "14.3 T: [7095, 7304, 6890, 6956, 6411, 7054, 7851, 7744, 8224, 6950]\n",
      "15.0 T: [7335, 7732, 8330, 7573, 8560, 8085, 6808, 8233, 8107, 6546]\n",
      "Completed in 29.4 s\n"
     ]
    }
   ],
   "source": [
    "k = delafossite()\n",
    "bar_frame = caustic_frame.Frame('geo/bar.dxf')\n",
    "fields = np.linspace(10, 15, 8)\n",
    "phi = 0\n",
    "n_inject = 10\n",
    "\n",
    "start = time.time()\n",
    "for field in fields:\n",
    "    np.random.seed(42)\n",
    "    bar_sim = mcs.Simulation(bar_frame, k, phi, field)\n",
    "    edge_to_collisions, trajectories = bar_sim.run_simulation(n_inject)\n",
    "    print(f'{field:.1f} T: {list(map(len, trajectories))}')\n",
    "print(f'Completed in {time.time() - start:.1f} s')"
   ]
  },
  {
   "cell_type": "markdown",
   "metadata": {},
   "source": [
    "## Parallel"
   ]
  },
  {
   "cell_type": "markdown",
   "metadata": {},
   "source": [
    "We can also run this in parallel! However, we need to be careful with seeding. If we set maxtasksperchild=1 then each process in our multiprocessing pool will begin with the same seed. This is much quicker!"
   ]
  },
  {
   "cell_type": "code",
   "execution_count": 9,
   "metadata": {
    "ExecuteTime": {
     "end_time": "2020-08-18T00:00:56.394309Z",
     "start_time": "2020-08-18T00:00:44.023728Z"
    }
   },
   "outputs": [
    {
     "name": "stdout",
     "output_type": "stream",
     "text": [
      "10.0 T: [12387, 5589, 16896, 31192, 4994, 7317, 4151, 9212, 4536, 10621]\n",
      "10.7 T: [12759, 23183, 40706, 12485, 26762, 4435, 28784, 23003, 9617, 14041]\n",
      "11.4 T: [5093, 14136, 5042, 10154, 5377, 5518, 5791, 5539, 15954, 5146]\n",
      "12.1 T: [5314, 6154, 5193, 7369, 5564, 7469, 6363, 6329, 5043, 7087]\n",
      "12.9 T: [5801, 6328, 6443, 6032, 5702, 5801, 6127, 7163, 5441, 7135]\n",
      "13.6 T: [6558, 6201, 6761, 6439, 6431, 7997, 7004, 6587, 8107, 7778]\n",
      "14.3 T: [7095, 7304, 6890, 6956, 6411, 7054, 7851, 7744, 8224, 6950]\n",
      "15.0 T: [7335, 7732, 8330, 7573, 8560, 8085, 6808, 8233, 8107, 6546]\n",
      "Completed in 12.4 s\n"
     ]
    }
   ],
   "source": [
    "start = time.time()\n",
    "results = []\n",
    "np.random.seed(42)\n",
    "with multiprocessing.Pool(maxtasksperchild=1) as p:\n",
    "    for field in fields:\n",
    "        bar_sim = mcs.Simulation(bar_frame, k, 0, field)\n",
    "        results.append(p.apply_async(bar_sim.run_simulation, [n_inject]))\n",
    "    p.close()\n",
    "    p.join()\n",
    "for r, field in zip(results, fields):\n",
    "    print(f'{field:.1f} T: {list(map(len, r.get()[1]))}')\n",
    "print(f'Completed in {time.time() - start:.1f} s')"
   ]
  },
  {
   "cell_type": "markdown",
   "metadata": {},
   "source": [
    "# The returned data"
   ]
  },
  {
   "cell_type": "markdown",
   "metadata": {},
   "source": [
    "## edge_to_count"
   ]
  },
  {
   "cell_type": "markdown",
   "metadata": {},
   "source": [
    "The main data set is the number of collisions with each edge of the device. This can be used to map to the voltage at a non-grounded contact.\n",
    "\n",
    "The data set is returned as a dictionary which maps between the edges and the number of collisions."
   ]
  },
  {
   "cell_type": "code",
   "execution_count": 10,
   "metadata": {
    "ExecuteTime": {
     "end_time": "2020-08-18T00:00:56.402675Z",
     "start_time": "2020-08-18T00:00:56.397895Z"
    }
   },
   "outputs": [
    {
     "name": "stdout",
     "output_type": "stream",
     "text": [
      "10.0 T: [10, 0, 82, 1, 20, 3, 173, 0]\n",
      "10.7 T: [10, 0, 171, 5, 23, 2, 273, 0]\n",
      "11.4 T: [10, 0, 25, 0, 7, 1, 131, 0]\n",
      "12.1 T: [10, 0, 0, 0, 7, 1, 116, 0]\n",
      "12.9 T: [9, 0, 0, 1, 3, 1, 121, 1]\n",
      "13.6 T: [10, 0, 1, 0, 8, 1, 129, 0]\n",
      "14.3 T: [10, 0, 0, 0, 12, 1, 138, 0]\n",
      "15.0 T: [10, 0, 0, 1, 9, 4, 150, 0]\n"
     ]
    }
   ],
   "source": [
    "for r, field in zip(results, fields):\n",
    "    print(f'{field:.1f} T: {list(r.get()[0].values())}')"
   ]
  },
  {
   "cell_type": "markdown",
   "metadata": {},
   "source": [
    "We will group the counts by layer"
   ]
  },
  {
   "cell_type": "code",
   "execution_count": 11,
   "metadata": {
    "ExecuteTime": {
     "end_time": "2020-08-18T00:00:56.414144Z",
     "start_time": "2020-08-18T00:00:56.403969Z"
    }
   },
   "outputs": [
    {
     "data": {
      "text/plain": [
       "{2: array([10., 10., 10., 10., 10., 10., 10., 10.]),\n",
       " 0: array([255., 444., 156., 116., 121., 130., 138., 150.]),\n",
       " 1: array([24., 30.,  8.,  8.,  5.,  9., 13., 14.])}"
      ]
     },
     "execution_count": 11,
     "metadata": {},
     "output_type": "execute_result"
    }
   ],
   "source": [
    "ohmstats = mcs.calc_ohmstats(fields, results)\n",
    "ohmstats"
   ]
  },
  {
   "cell_type": "markdown",
   "metadata": {},
   "source": [
    "The frame contains the lengths of each ohmic (layer in the dxf)"
   ]
  },
  {
   "cell_type": "code",
   "execution_count": 12,
   "metadata": {
    "ExecuteTime": {
     "end_time": "2020-08-18T00:00:56.423391Z",
     "start_time": "2020-08-18T00:00:56.415401Z"
    }
   },
   "outputs": [
    {
     "data": {
      "text/plain": [
       "{2: 1.1999999999999993, 0: 19.6, 1: 1.1999999999999993}"
      ]
     },
     "execution_count": 12,
     "metadata": {},
     "output_type": "execute_result"
    }
   ],
   "source": [
    "frame.ohmic_lengths"
   ]
  },
  {
   "cell_type": "markdown",
   "metadata": {},
   "source": [
    "Now plot the results vs. field. We don't plot the grounded contact or the regular edges"
   ]
  },
  {
   "cell_type": "code",
   "execution_count": 13,
   "metadata": {
    "ExecuteTime": {
     "end_time": "2020-08-18T00:00:56.551463Z",
     "start_time": "2020-08-18T00:00:56.424737Z"
    }
   },
   "outputs": [
    {
     "data": {
      "image/png": "[encoded data removed]",
      "text/plain": [
       "<Figure size 432x288 with 1 Axes>"
      ]
     },
     "metadata": {
      "needs_background": "light"
     },
     "output_type": "display_data"
    }
   ],
   "source": [
    "fig = plt.figure()\n",
    "for layer in ohmstats.keys():\n",
    "    if layer != 1 and layer != 3:\n",
    "        plt.plot(fields, ohmstats[layer]/(n_inject*frame.ohmic_lengths[layer]))\n",
    "plt.xlabel(r'Field (T)')\n",
    "plt.ylabel(r'Voltage (arb. units)')\n",
    "plt.show()"
   ]
  },
  {
   "cell_type": "markdown",
   "metadata": {},
   "source": [
    "## Trajectories"
   ]
  },
  {
   "cell_type": "markdown",
   "metadata": {},
   "source": [
    "The simulation also can return information on the paths the charge carriers took."
   ]
  },
  {
   "cell_type": "code",
   "execution_count": 14,
   "metadata": {
    "ExecuteTime": {
     "end_time": "2020-08-18T00:00:57.337298Z",
     "start_time": "2020-08-18T00:00:56.552937Z"
    },
    "scrolled": false
   },
   "outputs": [
    {
     "data": {
      "image/png": "[encoded data removed]",
      "text/plain": [
       "<Figure size 432x288 with 1 Axes>"
      ]
     },
     "metadata": {
      "needs_background": "light"
     },
     "output_type": "display_data"
    },
    {
     "data": {
      "image/png": "[encoded data removed]",
      "text/plain": [
       "<Figure size 432x288 with 1 Axes>"
      ]
     },
     "metadata": {
      "needs_background": "light"
     },
     "output_type": "display_data"
    },
    {
     "data": {
      "image/png": "[encoded data removed]",
      "text/plain": [
       "<Figure size 432x288 with 1 Axes>"
      ]
     },
     "metadata": {
      "needs_background": "light"
     },
     "output_type": "display_data"
    },
    {
     "data": {
      "image/png": "[encoded data removed]",
      "text/plain": [
       "<Figure size 432x288 with 1 Axes>"
      ]
     },
     "metadata": {
      "needs_background": "light"
     },
     "output_type": "display_data"
    },
    {
     "data": {
      "image/png": "[encoded data removed]",
      "text/plain": [
       "<Figure size 432x288 with 1 Axes>"
      ]
     },
     "metadata": {
      "needs_background": "light"
     },
     "output_type": "display_data"
    },
    {
     "data": {
      "image/png": "[encoded data removed]",
      "text/plain": [
       "<Figure size 432x288 with 1 Axes>"
      ]
     },
     "metadata": {
      "needs_background": "light"
     },
     "output_type": "display_data"
    },
    {
     "data": {
      "image/png": "[encoded data removed]",
      "text/plain": [
       "<Figure size 432x288 with 1 Axes>"
      ]
     },
     "metadata": {
      "needs_background": "light"
     },
     "output_type": "display_data"
    },
    {
     "data": {
      "image/png": "[encoded data removed]",
      "text/plain": [
       "<Figure size 432x288 with 1 Axes>"
      ]
     },
     "metadata": {
      "needs_background": "light"
     },
     "output_type": "display_data"
    }
   ],
   "source": [
    "for i,result in enumerate(results):\n",
    "    _, trajectories = result.get()\n",
    "    trajectory = trajectories[0]\n",
    "    fig = bar_frame.gen_fig()\n",
    "    ns, xs, ys, state, edge = zip(*trajectory)\n",
    "    plt.plot(xs,ys, 'C3-')\n",
    "    f = fields[i]\n",
    "    plt.title(str(round(fields[i],1))+' T')\n",
    "    plt.xlim(-1, 1)\n",
    "    plt.ylim(-6, 6)\n",
    "    ax = plt.gca()\n",
    "    ax.set_aspect('equal')"
   ]
  },
  {
   "cell_type": "markdown",
   "metadata": {},
   "source": [
    "# Ohmic LInes"
   ]
  },
  {
   "cell_type": "markdown",
   "metadata": {},
   "source": [
    "Sometimes it is useful to monitor when electrons cross a specific line that is not apart of the geometry that we want them to interact with. We will call these ohmic lines and they can be added to the simulation. To do this, we will pass in a list of lines (where each line is a list of two ordered (x,y) pairs defining the line) to the simulation init. The number of carriers that cross this line are then returned by run_simulation (where each line is listed as its own independent layer)."
   ]
  },
  {
   "cell_type": "code",
   "execution_count": 20,
   "metadata": {
    "ExecuteTime": {
     "end_time": "2020-08-18T00:01:53.122787Z",
     "start_time": "2020-08-18T00:01:40.876577Z"
    }
   },
   "outputs": [
    {
     "name": "stderr",
     "output_type": "stream",
     "text": [
      "/mnt/m/Users/Aaron/Dropbox (DGG Lab)/Aaron/Repositories/ballistic_montecarlo/monte_carlo_simulation.py:376: RuntimeWarning: divide by zero encountered in true_divide\n",
      "  ts = (x02*y23 - y02*x23) / (x01*y23 - y01*x23)\n",
      "/mnt/m/Users/Aaron/Dropbox (DGG Lab)/Aaron/Repositories/ballistic_montecarlo/monte_carlo_simulation.py:377: RuntimeWarning: divide by zero encountered in true_divide\n",
      "  us = -(x01*y02 - y01*x02) / (x01*y23 - y01*x23)\n",
      "/mnt/m/Users/Aaron/Dropbox (DGG Lab)/Aaron/Repositories/ballistic_montecarlo/monte_carlo_simulation.py:376: RuntimeWarning: divide by zero encountered in true_divide\n",
      "  ts = (x02*y23 - y02*x23) / (x01*y23 - y01*x23)\n",
      "/mnt/m/Users/Aaron/Dropbox (DGG Lab)/Aaron/Repositories/ballistic_montecarlo/monte_carlo_simulation.py:377: RuntimeWarning: divide by zero encountered in true_divide\n",
      "  us = -(x01*y02 - y01*x02) / (x01*y23 - y01*x23)\n",
      "/mnt/m/Users/Aaron/Dropbox (DGG Lab)/Aaron/Repositories/ballistic_montecarlo/monte_carlo_simulation.py:376: RuntimeWarning: divide by zero encountered in true_divide\n",
      "  ts = (x02*y23 - y02*x23) / (x01*y23 - y01*x23)\n",
      "/mnt/m/Users/Aaron/Dropbox (DGG Lab)/Aaron/Repositories/ballistic_montecarlo/monte_carlo_simulation.py:377: RuntimeWarning: divide by zero encountered in true_divide\n",
      "  us = -(x01*y02 - y01*x02) / (x01*y23 - y01*x23)\n",
      "/mnt/m/Users/Aaron/Dropbox (DGG Lab)/Aaron/Repositories/ballistic_montecarlo/monte_carlo_simulation.py:376: RuntimeWarning: divide by zero encountered in true_divide\n",
      "  ts = (x02*y23 - y02*x23) / (x01*y23 - y01*x23)\n",
      "/mnt/m/Users/Aaron/Dropbox (DGG Lab)/Aaron/Repositories/ballistic_montecarlo/monte_carlo_simulation.py:376: RuntimeWarning: divide by zero encountered in true_divide\n",
      "  ts = (x02*y23 - y02*x23) / (x01*y23 - y01*x23)\n",
      "/mnt/m/Users/Aaron/Dropbox (DGG Lab)/Aaron/Repositories/ballistic_montecarlo/monte_carlo_simulation.py:377: RuntimeWarning: divide by zero encountered in true_divide\n",
      "  us = -(x01*y02 - y01*x02) / (x01*y23 - y01*x23)\n",
      "/mnt/m/Users/Aaron/Dropbox (DGG Lab)/Aaron/Repositories/ballistic_montecarlo/monte_carlo_simulation.py:376: RuntimeWarning: divide by zero encountered in true_divide\n",
      "  ts = (x02*y23 - y02*x23) / (x01*y23 - y01*x23)\n",
      "/mnt/m/Users/Aaron/Dropbox (DGG Lab)/Aaron/Repositories/ballistic_montecarlo/monte_carlo_simulation.py:377: RuntimeWarning: divide by zero encountered in true_divide\n",
      "  us = -(x01*y02 - y01*x02) / (x01*y23 - y01*x23)\n",
      "/mnt/m/Users/Aaron/Dropbox (DGG Lab)/Aaron/Repositories/ballistic_montecarlo/monte_carlo_simulation.py:377: RuntimeWarning: divide by zero encountered in true_divide\n",
      "  us = -(x01*y02 - y01*x02) / (x01*y23 - y01*x23)\n",
      "/mnt/m/Users/Aaron/Dropbox (DGG Lab)/Aaron/Repositories/ballistic_montecarlo/monte_carlo_simulation.py:376: RuntimeWarning: divide by zero encountered in true_divide\n",
      "  ts = (x02*y23 - y02*x23) / (x01*y23 - y01*x23)\n",
      "/mnt/m/Users/Aaron/Dropbox (DGG Lab)/Aaron/Repositories/ballistic_montecarlo/monte_carlo_simulation.py:377: RuntimeWarning: divide by zero encountered in true_divide\n",
      "  us = -(x01*y02 - y01*x02) / (x01*y23 - y01*x23)\n",
      "/mnt/m/Users/Aaron/Dropbox (DGG Lab)/Aaron/Repositories/ballistic_montecarlo/monte_carlo_simulation.py:376: RuntimeWarning: divide by zero encountered in true_divide\n",
      "  ts = (x02*y23 - y02*x23) / (x01*y23 - y01*x23)\n",
      "/mnt/m/Users/Aaron/Dropbox (DGG Lab)/Aaron/Repositories/ballistic_montecarlo/monte_carlo_simulation.py:377: RuntimeWarning: divide by zero encountered in true_divide\n",
      "  us = -(x01*y02 - y01*x02) / (x01*y23 - y01*x23)\n"
     ]
    },
    {
     "name": "stdout",
     "output_type": "stream",
     "text": [
      "10.0 T: [12387, 5589, 16896, 31192, 4994, 7317, 4151, 9212, 4536, 10621]\n",
      "10.7 T: [12759, 23183, 40706, 12485, 26762, 4435, 28784, 23003, 9617, 14041]\n",
      "11.4 T: [5093, 14136, 5042, 10154, 5377, 5518, 5791, 5539, 15954, 5146]\n",
      "12.1 T: [5314, 6154, 5193, 7369, 5564, 7469, 6363, 6329, 5043, 7087]\n",
      "12.9 T: [5801, 6328, 6443, 6032, 5702, 5801, 6127, 7163, 5441, 7135]\n",
      "13.6 T: [6558, 6201, 6761, 6439, 6431, 7997, 7004, 6587, 8107, 7778]\n",
      "14.3 T: [7095, 7304, 6890, 6956, 6411, 7054, 7851, 7744, 8224, 6950]\n",
      "15.0 T: [7335, 7732, 8330, 7573, 8560, 8085, 6808, 8233, 8107, 6546]\n",
      "Completed in 12.2 s\n"
     ]
    }
   ],
   "source": [
    "# [[(x0, y0), (x1, y1)], [(x2, y2), (x3, y3)], ... \n",
    "lines = [[(-1, 0), (1,0)], [(-1, 1), (1, 1)]]\n",
    "ohmic_lines = caustic_frame.OhmicLines(lines)\n",
    "\n",
    "\n",
    "start = time.time()\n",
    "results = []\n",
    "np.random.seed(42)\n",
    "with multiprocessing.Pool(maxtasksperchild=1) as p:\n",
    "    for field in fields:\n",
    "        bar_sim = mcs.Simulation(bar_frame, k, 0, field, ohmic_lines=ohmic_lines)\n",
    "        results.append(p.apply_async(bar_sim.run_simulation, [n_inject]))\n",
    "    p.close()\n",
    "    p.join()\n",
    "for r, field in zip(results, fields):\n",
    "    print(f'{field:.1f} T: {list(map(len, r.get()[1]))}')\n",
    "print(f'Completed in {time.time() - start:.1f} s')"
   ]
  },
  {
   "cell_type": "markdown",
   "metadata": {},
   "source": [
    "We can print out the results. We see that the results are not affected by the addition of the ohmic lines, as the carriers do not physically interact with the lines."
   ]
  },
  {
   "cell_type": "code",
   "execution_count": 22,
   "metadata": {
    "ExecuteTime": {
     "end_time": "2020-08-18T00:01:53.139983Z",
     "start_time": "2020-08-18T00:01:53.130410Z"
    }
   },
   "outputs": [
    {
     "name": "stdout",
     "output_type": "stream",
     "text": [
      "10.0 T: [10, 0, 82, 1, 20, 3, 173, 0, 24, 24]\n",
      "10.7 T: [10, 0, 171, 5, 23, 2, 273, 0, 56, 50]\n",
      "11.4 T: [10, 0, 25, 0, 7, 1, 131, 0, 18, 18]\n",
      "12.1 T: [10, 0, 0, 0, 7, 1, 116, 0, 10, 16]\n",
      "12.9 T: [9, 0, 0, 1, 3, 1, 121, 1, 14, 14]\n",
      "13.6 T: [10, 0, 1, 0, 8, 1, 129, 0, 14, 16]\n",
      "14.3 T: [10, 0, 0, 0, 12, 1, 138, 0, 14, 14]\n",
      "15.0 T: [10, 0, 0, 1, 9, 4, 150, 0, 14, 10]\n"
     ]
    }
   ],
   "source": [
    "for r, field in zip(results, fields):\n",
    "    print(f'{field:.1f} T: {list(r.get()[0].values())}')"
   ]
  },
  {
   "cell_type": "code",
   "execution_count": 23,
   "metadata": {
    "ExecuteTime": {
     "end_time": "2020-08-18T00:01:53.150919Z",
     "start_time": "2020-08-18T00:01:53.141806Z"
    },
    "scrolled": true
   },
   "outputs": [
    {
     "data": {
      "text/plain": [
       "{2: array([10., 10., 10., 10., 10., 10., 10., 10.]),\n",
       " 0: array([255., 444., 156., 116., 121., 130., 138., 150.]),\n",
       " 1: array([24., 30.,  8.,  8.,  5.,  9., 13., 14.]),\n",
       " 3: array([24., 56., 18., 10., 14., 14., 14., 14.]),\n",
       " 4: array([24., 50., 18., 16., 14., 16., 14., 10.])}"
      ]
     },
     "execution_count": 23,
     "metadata": {},
     "output_type": "execute_result"
    }
   ],
   "source": [
    "ohmstats = mcs.calc_ohmstats(fields, results)\n",
    "ohmstats"
   ]
  },
  {
   "cell_type": "markdown",
   "metadata": {},
   "source": [
    "The lines are moved to layers higher than the geometry of the frame. The layers of each line can be checked:"
   ]
  },
  {
   "cell_type": "code",
   "execution_count": 30,
   "metadata": {
    "ExecuteTime": {
     "end_time": "2020-08-18T00:03:09.242804Z",
     "start_time": "2020-08-18T00:03:09.237893Z"
    }
   },
   "outputs": [
    {
     "data": {
      "text/plain": [
       "[((-1, 0), (1, 0), 3), ((-1, 1), (1, 1), 4)]"
      ]
     },
     "execution_count": 30,
     "metadata": {},
     "output_type": "execute_result"
    }
   ],
   "source": [
    "bar_sim._ohmic_lines.lines_as_edges"
   ]
  },
  {
   "cell_type": "code",
   "execution_count": null,
   "metadata": {},
   "outputs": [],
   "source": []
  }
 ],
 "metadata": {
  "kernelspec": {
   "display_name": "Python 3",
   "language": "python",
   "name": "python3"
  },
  "language_info": {
   "codemirror_mode": {
    "name": "ipython",
    "version": 3
   },
   "file_extension": ".py",
   "mimetype": "text/x-python",
   "name": "python",
   "nbconvert_exporter": "python",
   "pygments_lexer": "ipython3",
   "version": "3.6.9"
  },
  "toc": {
   "base_numbering": 1,
   "nav_menu": {
    "height": "216.233px",
    "width": "252px"
   },
   "number_sections": true,
   "sideBar": true,
   "skip_h1_title": false,
   "title_cell": "Table of Contents",
   "title_sidebar": "Contents",
   "toc_cell": true,
   "toc_position": {},
   "toc_section_display": "block",
   "toc_window_display": true
  }
 },
 "nbformat": 4,
 "nbformat_minor": 2
}
