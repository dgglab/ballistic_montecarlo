{
 "cells": [
  {
   "cell_type": "markdown",
   "metadata": {},
   "source": [
    "# Init"
   ]
  },
  {
   "cell_type": "code",
   "execution_count": 1,
   "metadata": {},
   "outputs": [],
   "source": [
    "import time\n",
    "import multiprocessing\n",
    "import numpy as np\n",
    "import matplotlib.pyplot as plt\n",
    "from cycler import cycler\n",
    "\n",
    "import geo.caustic_frame as caustic_frame\n",
    "import monte_carlo_simulation as mcs\n",
    "from bandstructure.delafossite_bandstructure import delafossite\n",
    "\n",
    "# Set default plotting parameters\n",
    "plt.rcParams['axes.prop_cycle'] = cycler(\n",
    "    color=['#E24A33','#348ABD','#988ED5','#777777',\n",
    "           '#FBC15E','#8EBA42','#FFB5B8'])\n",
    "\n",
    "plt.rcParams['axes.linewidth'] = 1\n",
    "plt.rcParams['xtick.direction'] = 'in'\n",
    "plt.rcParams['xtick.top'] = 'True'\n",
    "plt.rcParams['xtick.major.size'] = 5\n",
    "plt.rcParams['xtick.major.width'] = 1\n",
    "\n",
    "plt.rcParams['ytick.direction'] = 'in'\n",
    "plt.rcParams['ytick.right'] = 'True'\n",
    "plt.rcParams['ytick.major.size'] = 5\n",
    "plt.rcParams['ytick.major.width'] = 1\n",
    "\n",
    "plt.rcParams['lines.linewidth'] = 1.5\n",
    "plt.rcParams['font.size'] = 12\n",
    "plt.rcParams['axes.labelsize']=12"
   ]
  },
  {
   "cell_type": "markdown",
   "metadata": {},
   "source": [
    "# Ballistic Monte Carlo"
   ]
  },
  {
   "cell_type": "markdown",
   "metadata": {},
   "source": [
    "In ultra-clean 2D materials, transport is ballistic over large length scales at sufficiently low temperatures. This simulation platform aims to  semi-classically model ballistic transport for a generic Fermi surface in a given 2D geometry. By modeling the ballistic trajectories in field, on can gain an effective map of the current density within the device. Additionally, by monitoring the interactions of the charge carriers with the edges of the device, one can gain qaulitative predictions for the field-dependence of the voltage at a given ohmic contact."
   ]
  },
  {
   "cell_type": "markdown",
   "metadata": {},
   "source": [
    "# Features to be implemented"
   ]
  },
  {
   "cell_type": "markdown",
   "metadata": {},
   "source": [
    "- Specular reflection\n",
    "\n",
    "\n",
    "- Ability to selectively save trajectory information\n",
    "\n",
    "\n",
    "- Post processing of data\n",
    "    - Analysis of returned edge collisions\n",
    "    - Generating color maps of electron density"
   ]
  },
  {
   "cell_type": "markdown",
   "metadata": {},
   "source": [
    "# Generate frame"
   ]
  },
  {
   "cell_type": "markdown",
   "metadata": {},
   "source": [
    "The Frame class represents the geometry we would like to simulate. To generate a frame load in a dxf file.\n",
    "\n",
    "When generating a caustic frame, all layers are collapsed down onto layer 0 to generate a single polygon. Layer 0 will function as a regular edge of the given material while higher layers will function as ohmic contacts. Any line segment of layer 0 that is totally encompased in a higher layer polygon is now labeled by the higher layer. A line segment of layer 0 that  intersects with a higher layer polygon is divided to a portion inside and outside of the higher layer polygon. The portion outside remains labeled by layer 0 while the portion inside aquires the layer of the polygon. \n",
    "\n",
    "Each layer functions as a single ohmic contact (or multiple contacts that are shorted together in the case of disjoin polygons). An injecting contact (layer 1) and a grounded contact (layer 2) are required. All highe layers will be considered as floating contacts.\n",
    "\n",
    "See the figures below for an example dxf which is then collapsed down into a Frame.\n",
    "\n",
    "\n",
    "Required layers: \n",
    "- 0: Body of device, must be a single polygon\n",
    "- 1: Injecting contact(s)\n",
    "- 2: Grounded contacts(s)\n",
    "\n",
    "Optional layers:\n",
    "- 3-n: floating contacts, grouped by layer"
   ]
  },
  {
   "cell_type": "code",
   "execution_count": 2,
   "metadata": {
    "scrolled": false
   },
   "outputs": [
    {
     "data": {
      "image/png": "[encoded data removed]",
      "text/plain": [
       "<Figure size 432x288 with 1 Axes>"
      ]
     },
     "metadata": {
      "needs_background": "light"
     },
     "output_type": "display_data"
    },
    {
     "data": {
      "image/png": "[encoded data removed]",
      "text/plain": [
       "<Figure size 432x288 with 1 Axes>"
      ]
     },
     "metadata": {
      "needs_background": "light"
     },
     "output_type": "display_data"
    }
   ],
   "source": [
    "frame = caustic_frame.Frame('geo/bar.dxf')\n",
    "\n",
    "# Original DXF\n",
    "fig, ax = plt.subplots()\n",
    "colors = ['k', 'C0', 'C1']\n",
    "for i, layer in enumerate(frame.ps.keys()):\n",
    "    x,y = zip(*frame.ps[layer][0])\n",
    "    plt.plot(x,y, color=colors[i])\n",
    "plt.xlabel(r'x position ($\\mathrm{\\mu m}$)')\n",
    "plt.ylabel(r'y position ($\\mathrm{\\mu m}$)')\n",
    "plt.xlim(-1, 1)\n",
    "plt.ylim(-6, 6)\n",
    "ax.set_aspect('equal')\n",
    "\n",
    "# Caustic frame\n",
    "frame.gen_fig();\n",
    "plt.xlabel(r'x position ($\\mathrm{\\mu m}$)')\n",
    "plt.ylabel(r'y position ($\\mathrm{\\mu m}$)')\n",
    "plt.xlim(-1, 1)\n",
    "plt.ylim(-6, 6)\n",
    "ax = plt.gca()\n",
    "ax.set_aspect('equal')"
   ]
  },
  {
   "cell_type": "markdown",
   "metadata": {},
   "source": [
    "The frame consists of a collection of edges (a helper class where we easily store information about a given edge, such as its vertices, layer, and injection probability distribution). We will come back to this once we load in the bandstructure"
   ]
  },
  {
   "cell_type": "code",
   "execution_count": 3,
   "metadata": {},
   "outputs": [
    {
     "data": {
      "text/plain": [
       "[((-0.5, 5.0), (0.5, 5.0), 2),\n",
       " ((0.5, 5.0), (0.5, 4.9), 2),\n",
       " ((0.5, 4.9), (0.5, -4.9), 0),\n",
       " ((0.5, -4.9), (0.5, -5.0), 1),\n",
       " ((0.5, -5.0), (-0.5, -5.0), 1),\n",
       " ((-0.5, -5.0), (-0.5, -4.9), 1),\n",
       " ((-0.5, -4.9), (-0.5, 4.9), 0),\n",
       " ((-0.5, 4.9), (-0.5, 5.0), 2)]"
      ]
     },
     "execution_count": 3,
     "metadata": {},
     "output_type": "execute_result"
    }
   ],
   "source": [
    "frame.edges"
   ]
  },
  {
   "cell_type": "markdown",
   "metadata": {},
   "source": [
    "# Bandstructure"
   ]
  },
  {
   "cell_type": "markdown",
   "metadata": {},
   "source": [
    "Next, we call the delafossite function, which returns a list of of arrays [kx, ky] to represent the Fermi surface. PdCoO2 experimentally has been show to have a nearly constant Fermi velocity across its Fermi surface, so I interpolate the points on the Fermi surface to be separated by constant arc length. If this is not the case for your material, the points should be separated by a distance proportional to the local Fermi velocity."
   ]
  },
  {
   "cell_type": "code",
   "execution_count": 4,
   "metadata": {},
   "outputs": [
    {
     "data": {
      "image/png": "[encoded data removed]",
      "text/plain": [
       "<Figure size 432x288 with 1 Axes>"
      ]
     },
     "metadata": {
      "needs_background": "light"
     },
     "output_type": "display_data"
    }
   ],
   "source": [
    "k = delafossite()\n",
    "\n",
    "fig, ax = plt.subplots()\n",
    "plt.plot(k[0], k[1])\n",
    "plt.xlabel(r'$k_x\\ (\\mathrm{\\AA^{-1}})$')\n",
    "plt.ylabel(r'$k_y\\ (\\mathrm{\\AA^{-1}})$')\n",
    "ax.set_aspect('equal')"
   ]
  },
  {
   "cell_type": "markdown",
   "metadata": {},
   "source": [
    "# Simulation"
   ]
  },
  {
   "cell_type": "markdown",
   "metadata": {},
   "source": [
    "Our simulation is run through Simulation, which takes in our Frame and list of wavevectors. It also takes in: \n",
    "\n",
    "- phi: angle of rotation of device relative to crystal axis\n",
    "- field: Magnetic field to simulate\n",
    "\n",
    "Based on the Fermi surface and given field, the real space trajectories of the charge carriers will be calculated. It turns out that this will be a 90 degree rotation of the Fermi surface scaled by a factor of 1/field. The handedness of these real space trajectories depends on the sign of the field."
   ]
  },
  {
   "cell_type": "code",
   "execution_count": 5,
   "metadata": {},
   "outputs": [
    {
     "data": {
      "image/png": "[encoded data removed]",
      "text/plain": [
       "<Figure size 432x288 with 1 Axes>"
      ]
     },
     "metadata": {
      "needs_background": "light"
     },
     "output_type": "display_data"
    }
   ],
   "source": [
    "phi = 0\n",
    "field = 10\n",
    "sim = mcs.Simulation(frame, k, phi, field)\n",
    "\n",
    "fig, ax = plt.subplots()\n",
    "if np.sign(field) == 1:\n",
    "    plt.plot([-0.02], [0], marker=r'$\\circlearrowleft$', ms=50, color='k')\n",
    "else:\n",
    "    plt.plot([-0.02], [0], marker=r'$\\circlearrowright$', ms=50, color='k')\n",
    "plt.plot(sim._bandstructure.r[0], sim._bandstructure.r[1])\n",
    "plt.xlabel(r'$r_x\\ (\\mathrm{\\mu m})$')\n",
    "plt.ylabel(r'$r_y\\ (\\mathrm{\\mu m})$')\n",
    "ax.set_aspect('equal')"
   ]
  },
  {
   "cell_type": "markdown",
   "metadata": {},
   "source": [
    "Simulation stores information on how electrons should be injected into the device. However, the probability distribution for which state electrons should be injected into depends on the normal direction of the edge (where we take the normal to point into the device). \n",
    "\n",
    "\n",
    "We can plot the probability distribution for a given edge in both reciprocal and real space (blue [red] corresponds to zero [high] probability of injection). The drawn black line corresponds to the normal vector for this edge. We can see that there is a non-zero probability only for injection into states where the charge carrier will propigate in the direction of the normal."
   ]
  },
  {
   "cell_type": "code",
   "execution_count": 6,
   "metadata": {
    "scrolled": false
   },
   "outputs": [
    {
     "data": {
      "image/png": "[encoded data removed]",
      "text/plain": [
       "<Figure size 432x288 with 1 Axes>"
      ]
     },
     "metadata": {
      "needs_background": "light"
     },
     "output_type": "display_data"
    },
    {
     "data": {
      "image/png": "[encoded data removed]",
      "text/plain": [
       "<Figure size 432x288 with 1 Axes>"
      ]
     },
     "metadata": {
      "needs_background": "light"
     },
     "output_type": "display_data"
    }
   ],
   "source": [
    "cmap = plt.get_cmap('Spectral_r')\n",
    "    \n",
    "edge = sim._frame.edges[0]\n",
    "max_p = np.max(edge.in_prob)\n",
    "colors = np.array([cmap(p/max_p) for p in edge.in_prob])\n",
    "colors = np.append(colors, [colors[0]], axis=0)\n",
    "\n",
    "# Fermi surface\n",
    "fig, ax = plt.subplots()\n",
    "plt.plot((0, (np.max(sim._bandstructure.k[0]*np.cos(edge.normal_angle)))*np.cos(edge.normal_angle)), \n",
    "         (0, (np.max(sim._bandstructure.k[1]*np.sin(edge.normal_angle)))*np.sin(edge.normal_angle)),'k')\n",
    "plt.scatter(sim._bandstructure.k[0], sim._bandstructure.k[1],c=colors)\n",
    "plt.xlabel(r'$k_x\\ (\\mathrm{\\AA^{-1}})$')\n",
    "plt.ylabel(r'$k_y\\ (\\mathrm{\\AA^{-1}})$')\n",
    "ax.set_aspect('equal')\n",
    "\n",
    "# Real space trajectory\n",
    "fig, ax = plt.subplots()\n",
    "if np.sign(field) == 1:\n",
    "    plt.plot([-0.02], [0], marker=r'$\\circlearrowleft$', ms=50, color='k')\n",
    "else:\n",
    "    plt.plot([-0.02], [0], marker=r'$\\circlearrowright$', ms=50, color='k')\n",
    "plt.plot((0, (np.max(sim._bandstructure.r[0]*np.cos(edge.normal_angle)))*np.cos(edge.normal_angle)), \n",
    "         (0, (np.max(sim._bandstructure.r[1]*np.sin(edge.normal_angle)))*np.sin(edge.normal_angle)),'k')\n",
    "plt.scatter(sim._bandstructure.r[0], sim._bandstructure.r[1],c=colors)\n",
    "plt.xlabel(r'$r_x\\ (\\mathrm{\\mu m})$')\n",
    "plt.ylabel(r'$r_y\\ (\\mathrm{\\mu m})$')\n",
    "ax.set_aspect('equal')"
   ]
  },
  {
   "cell_type": "markdown",
   "metadata": {},
   "source": [
    "## Serial"
   ]
  },
  {
   "cell_type": "markdown",
   "metadata": {},
   "source": [
    "We are now ready to run the simulation. The simulation can be run in serial. Here we explicitly set the seed before each run of the simulation so that we can repeate the results."
   ]
  },
  {
   "cell_type": "code",
   "execution_count": null,
   "metadata": {},
   "outputs": [
    {
     "name": "stderr",
     "output_type": "stream",
     "text": [
      "/mnt/m/Users/Aaron/Dropbox (DGG Lab)/Aaron/Repositories/ballistic_montecarlo/monte_carlo_simulation.py:299: RuntimeWarning: divide by zero encountered in true_divide\n",
      "  (x01*self._frame.y23 - y01*self._frame.x23)\n",
      "/mnt/m/Users/Aaron/Dropbox (DGG Lab)/Aaron/Repositories/ballistic_montecarlo/monte_carlo_simulation.py:300: RuntimeWarning: divide by zero encountered in true_divide\n",
      "  us = -(x01*y02 - y01*x02) / (x01*self._frame.y23 - y01*self._frame.x23)\n"
     ]
    }
   ],
   "source": [
    "k = delafossite()\n",
    "bar_frame = caustic_frame.Frame('geo/bar.dxf')\n",
    "fields = np.linspace(10, 15, 8)\n",
    "phi = 0\n",
    "n_inject = 10\n",
    "\n",
    "start = time.time()\n",
    "for field in fields:\n",
    "    np.random.seed(42)\n",
    "    bar_sim = mcs.Simulation(bar_frame, k, phi, field)\n",
    "    edge_to_collisions, trajectories = bar_sim.run_simulation(n_inject)\n",
    "    print(f'{field:.1f} T: {list(map(len, trajectories))}')\n",
    "print(f'Completed in {time.time() - start:.1f} s')"
   ]
  },
  {
   "cell_type": "markdown",
   "metadata": {},
   "source": [
    "## Parallel"
   ]
  },
  {
   "cell_type": "markdown",
   "metadata": {},
   "source": [
    "We can also run this in parallel! However, we need to be careful with seeding. If we set maxtasksperchild=1 then each process in our multiprocessing pool will begin with the same seed. This is much quicker!"
   ]
  },
  {
   "cell_type": "code",
   "execution_count": null,
   "metadata": {},
   "outputs": [],
   "source": [
    "start = time.time()\n",
    "results = []\n",
    "np.random.seed(42)\n",
    "with multiprocessing.Pool(maxtasksperchild=1) as p:\n",
    "    for field in fields:\n",
    "        bar_sim = mcs.Simulation(bar_frame, k, 0, field)\n",
    "        results.append(p.apply_async(bar_sim.run_simulation, [n_inject]))\n",
    "    p.close()\n",
    "    p.join()\n",
    "for r, field in zip(results, fields):\n",
    "    print(f'{field:.1f} T: {list(map(len, r.get()[1]))}')\n",
    "print(f'Completed in {time.time() - start:.1f} s')"
   ]
  },
  {
   "cell_type": "markdown",
   "metadata": {},
   "source": [
    "# The returned data"
   ]
  },
  {
   "cell_type": "markdown",
   "metadata": {},
   "source": [
    "## edge_to_count"
   ]
  },
  {
   "cell_type": "markdown",
   "metadata": {},
   "source": [
    "The main data set is the number of collisions with each edge of the device. This can be used to map to the voltage at a non-grounded contact.\n",
    "\n",
    "The data set is returned as a dictionary which maps between the edges and the number of collisions."
   ]
  },
  {
   "cell_type": "code",
   "execution_count": null,
   "metadata": {},
   "outputs": [],
   "source": [
    "for r, field in zip(results, fields):\n",
    "    print(f'{field:.1f} T: {list(r.get()[0].values())}')"
   ]
  },
  {
   "cell_type": "markdown",
   "metadata": {},
   "source": [
    "## Trajectories"
   ]
  },
  {
   "cell_type": "markdown",
   "metadata": {},
   "source": [
    "The simulation also can return information on the paths the charge carriers took."
   ]
  },
  {
   "cell_type": "code",
   "execution_count": null,
   "metadata": {
    "scrolled": false
   },
   "outputs": [],
   "source": [
    "for i,result in enumerate(results):\n",
    "    _, trajectories = result.get()\n",
    "    trajectory = trajectories[0]\n",
    "    fig = bar_frame.gen_fig()\n",
    "    ns, xs, ys, state, edge = zip(*trajectory)\n",
    "    plt.plot(xs,ys, 'C3-')\n",
    "    f = fields[i]\n",
    "    plt.title(str(round(fields[i],1))+' T')\n",
    "    plt.xlim(-1, 1)\n",
    "    plt.ylim(-6, 6)\n",
    "    ax = plt.gca()\n",
    "    ax.set_aspect('equal')"
   ]
  }
 ],
 "metadata": {
  "kernelspec": {
   "display_name": "Python 3",
   "language": "python",
   "name": "python3"
  },
  "language_info": {
   "codemirror_mode": {
    "name": "ipython",
    "version": 3
   },
   "file_extension": ".py",
   "mimetype": "text/x-python",
   "name": "python",
   "nbconvert_exporter": "python",
   "pygments_lexer": "ipython3",
   "version": "3.6.9"
  }
 },
 "nbformat": 4,
 "nbformat_minor": 2
}
